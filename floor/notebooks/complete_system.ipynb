{
 "cells": [
  {
   "cell_type": "code",
   "execution_count": 1,
   "metadata": {
    "collapsed": false,
    "deletable": true,
    "editable": true
   },
   "outputs": [
    {
     "name": "stderr",
     "output_type": "stream",
     "text": [
      "Using TensorFlow backend.\n"
     ]
    }
   ],
   "source": [
    "import pandas as pd\n",
    "import os, sys\n",
    "import numpy as np\n",
    "os.environ[\"KERAS_BACKEND\"] = 'tensorflow'\n",
    "from keras.utils import np_utils\n",
    "from sklearn.ensemble import RandomForestClassifier\n",
    "import pickle\n",
    "from sklearn.externals import joblib\n",
    "pd.options.mode.chained_assignment = None  # default='warn'\n",
    "import re\n",
    "from floor.data.dataset_loader import TestData\n",
    "\n",
    "\n",
    "import json\n",
    "import matplotlib.pyplot as plt\n",
    "from matplotlib.pyplot import savefig\n",
    "from peakdetect import peakdetect\n",
    "from scipy.spatial import distance\n",
    "from sklearn.metrics.pairwise import cosine_similarity\n",
    "import math\n",
    "from keras.models import load_model\n",
    "import seaborn as sns\n",
    "%matplotlib inline"
   ]
  },
  {
   "cell_type": "markdown",
   "metadata": {
    "deletable": true,
    "editable": true
   },
   "source": [
    "---\n",
    "# Load models"
   ]
  },
  {
   "cell_type": "code",
   "execution_count": 3,
   "metadata": {
    "collapsed": true,
    "deletable": true,
    "editable": true
   },
   "outputs": [],
   "source": [
    "random_forest = joblib.load('../best_model_weights/random_forest/weights/random_forest_final_1_0_trial_144.pkl')"
   ]
  },
  {
   "cell_type": "code",
   "execution_count": 4,
   "metadata": {
    "collapsed": false,
    "deletable": true,
    "editable": true
   },
   "outputs": [],
   "source": [
    "svm = joblib.load('../best_model_weights/svm/weights/svm_final_1_0_trial_85.pkl')"
   ]
  },
  {
   "cell_type": "code",
   "execution_count": 5,
   "metadata": {
    "collapsed": true,
    "deletable": true,
    "editable": true
   },
   "outputs": [],
   "source": [
    "log_reg = joblib.load('../best_model_weights/logistic_regression/weights/logistic_regression_final_1_0_trial_179.pkl')"
   ]
  },
  {
   "cell_type": "code",
   "execution_count": 9,
   "metadata": {
    "collapsed": false,
    "deletable": true,
    "editable": true
   },
   "outputs": [],
   "source": [
    "hmm = joblib.load('../best_model_weights/hmm/weights/hmm_final_1_0_trial_59.pkl')"
   ]
  },
  {
   "cell_type": "code",
   "execution_count": 7,
   "metadata": {
    "collapsed": false,
    "deletable": true,
    "editable": true
   },
   "outputs": [],
   "source": [
    "nn = load_model('../best_model_weights/fc_nn/weights/fc_nn_final_1_18_trial_18.h5')"
   ]
  },
  {
   "cell_type": "code",
   "execution_count": 14,
   "metadata": {
    "collapsed": false,
    "deletable": true,
    "editable": true
   },
   "outputs": [
    {
     "name": "stderr",
     "output_type": "stream",
     "text": [
      "/Users/waf/anaconda/envs/analysis/lib/python3.4/site-packages/keras/models.py:287: UserWarning: Error in loading the saved optimizer state. As a result, your model is starting with a freshly initialized optimizer.\n",
      "  warnings.warn('Error in loading the saved optimizer '\n"
     ]
    }
   ],
   "source": [
    "lstm = load_model('../best_model_weights/lstm/weights/lstm_final_1_188_trial_188.h5')\n",
    "lstm_window_size = 3"
   ]
  },
  {
   "cell_type": "code",
   "execution_count": 501,
   "metadata": {
    "collapsed": true
   },
   "outputs": [],
   "source": [
    "use_model = 'lstm' # 'lstm', 'nn', 'lg', 'svm', 'rf', 'hmm'\n",
    "\n",
    "# True = m will be based on each building. False = m will be 4.02 (mean from bldgs dataset)\n",
    "use_building_based_m_val = False\n",
    "\n",
    "plot_classifications = False"
   ]
  },
  {
   "cell_type": "markdown",
   "metadata": {
    "deletable": true,
    "editable": true
   },
   "source": [
    "---\n",
    "# Load dataset"
   ]
  },
  {
   "cell_type": "markdown",
   "metadata": {
    "deletable": true,
    "editable": true
   },
   "source": [
    "Load data from all training runs in array of pandas"
   ]
  },
  {
   "cell_type": "code",
   "execution_count": 481,
   "metadata": {
    "collapsed": true,
    "deletable": true,
    "editable": true
   },
   "outputs": [],
   "source": [
    "def load_data(exp_name='_', data_path='../data/floor_prediction_test_data/data'):\n",
    "    frames = []\n",
    "    frames_names = []\n",
    "    for file_name in os.listdir(data_path):\n",
    "        if 'csv' in file_name and exp_name in file_name:\n",
    "            in_path = '%s/%s' % (data_path, file_name)\n",
    "            df = pd.read_csv(in_path)\n",
    "            df = df.fillna(0)\n",
    "            frames.append(df)\n",
    "            frames_names.append(file_name)\n",
    "\n",
    "    # add weather data\n",
    "    for df in frames:\n",
    "        df['weather_pressure'] = [100] * len(df)\n",
    "    \n",
    "    # run predictions on each frame\n",
    "    rf_frames, rf_accuracies = predict_dfs_sklearn_model(random_forest, frames, 'RF')\n",
    "    svm_frames, svm_accuracies = predict_dfs_sklearn_model(svm, frames, 'SVM')\n",
    "    lg_frames, lg_accuracies = predict_dfs_sklearn_model(log_reg, frames, 'LG')\n",
    "    hmm_frames, hmm_accuracies = predict_dfs_sklearn_hmm(hmm, frames, 'HMM')\n",
    "    nn_frames, accuracies = predict_dfs_nn(frames)\n",
    "    lstm_frames, accuracies = predict_dfs_lstm(frames)\n",
    "\n",
    "    result_frames = None\n",
    "    if use_model == 'rf':\n",
    "        result_frames = rf_frames\n",
    "    if use_model == 'svm':\n",
    "        result_frames = svm_frames\n",
    "    if use_model == 'lg':\n",
    "        result_frames = lg_frames\n",
    "    if use_model == 'hmm':\n",
    "        result_frames = hmm_frames\n",
    "    if use_model == 'nn':\n",
    "        result_frames = nn_frames\n",
    "    if use_model == 'lstm':\n",
    "        result_frames = lstm_frames\n",
    "        \n",
    "    return result_frames, frames_names\n",
    "\n",
    "\n",
    "def filter_exps(exps, names, allowed):\n",
    "    allowed = []\n",
    "    allowed_names = []\n",
    "    for n in names:\n",
    "        if n in allowed:\n",
    "            allowed.append(exps)\n",
    "            allowed_names.append(names)\n",
    "    return allowed, allowed_names "
   ]
  },
  {
   "cell_type": "markdown",
   "metadata": {
    "deletable": true,
    "editable": true
   },
   "source": [
    "---\n",
    "# Extract Features\n",
    "Define fx to do a window around the point\n",
    "This means that X will become 3 points concatenated as a feature vector"
   ]
  },
  {
   "cell_type": "code",
   "execution_count": 450,
   "metadata": {
    "collapsed": false,
    "deletable": true,
    "editable": true
   },
   "outputs": [],
   "source": [
    "\n",
    "def create_window_features_lstm(X, Y, window_length = lstm_window_size):\n",
    "\n",
    "    # make odd so we can take half on left, half on right of point\n",
    "\n",
    "    new_X = []\n",
    "    new_Y = np.zeros((len(X) - window_length, 1))\n",
    "    arr_i = 0\n",
    "    side_size = int((window_length - 1) /2)\n",
    "    for i in range(side_size, len(X)):\n",
    "        i_start = i - side_size\n",
    "        i_end = i + side_size + 1\n",
    "        y_i = i\n",
    "        dps = X[i_start:i_end, :]\n",
    "        new_x = dps        \n",
    "        new_y = Y[y_i]\n",
    "        if i_end >= len(X):\n",
    "            break\n",
    "        new_X.append(new_x)\n",
    "        new_Y[arr_i] = new_y\n",
    "        arr_i += 1\n",
    "    \n",
    "    new_X = np.asarray(new_X)\n",
    "    return new_X, new_Y\n",
    "\n",
    "\n",
    "def create_window_features(X, Y, window_length = 3):\n",
    "\n",
    "    # make odd so we can take half on left, half on right of point\n",
    "\n",
    "    new_X = np.zeros((len(X) - window_length, window_length * len(X[0])))\n",
    "    new_Y = np.zeros((len(X) - window_length, 1))\n",
    "    arr_i = 0\n",
    "    side_size = int((window_length - 1) /2)\n",
    "    for i in range(side_size, len(X)):\n",
    "        i_start = i - side_size\n",
    "        i_end = i + side_size + 1\n",
    "        y_i = i\n",
    "        dps = X[i_start:i_end, :]\n",
    "        new_x = dps.flatten()\n",
    "        new_y = Y[y_i]\n",
    "        if i_end >= len(X):\n",
    "            break\n",
    "        new_X[arr_i] = new_x\n",
    "        new_Y[arr_i] = new_y\n",
    "        arr_i += 1\n",
    "\n",
    "    return new_X, new_Y"
   ]
  },
  {
   "cell_type": "markdown",
   "metadata": {
    "deletable": true,
    "editable": true
   },
   "source": [
    "Pick out the features we care about"
   ]
  },
  {
   "cell_type": "code",
   "execution_count": 451,
   "metadata": {
    "collapsed": true,
    "deletable": true,
    "editable": true
   },
   "outputs": [],
   "source": [
    "def extract_features(df, features, y_label):\n",
    "    x_df = df[features]\n",
    "    y_df = df[[y_label]]\n",
    "    \n",
    "    return x_df, y_df"
   ]
  },
  {
   "cell_type": "markdown",
   "metadata": {
    "deletable": true,
    "editable": true
   },
   "source": [
    "---\n",
    "# Format data"
   ]
  },
  {
   "cell_type": "code",
   "execution_count": 452,
   "metadata": {
    "collapsed": true,
    "deletable": true,
    "editable": true
   },
   "outputs": [],
   "source": [
    "def convert_test_data_to_nn_format(X_train, Y_train):\n",
    "    nb_classes = 2\n",
    "    X_train = X_train.astype('float32')\n",
    "\n",
    "    # convert class vectors to binary class matrices\n",
    "    Y_train = np_utils.to_categorical(Y_train.flatten(), nb_classes)\n",
    "    return X_train, Y_train"
   ]
  },
  {
   "cell_type": "code",
   "execution_count": 453,
   "metadata": {
    "collapsed": true,
    "deletable": true,
    "editable": true
   },
   "outputs": [],
   "source": [
    "def create_test_data(df, X_features, Y_label, nn_format=False, hmm_format=False):\n",
    "    x_df, y_df = extract_features(df, X_features, Y_label)\n",
    "\n",
    "    X = x_df.as_matrix()\n",
    "    Y = y_df.as_matrix()\n",
    "    \n",
    "    if not hmm_format:\n",
    "        X, Y = create_window_features(X, Y)\n",
    "    \n",
    "    if nn_format:\n",
    "        X, Y = convert_test_data_to_nn_format(X, Y)\n",
    "    return X, Y"
   ]
  },
  {
   "cell_type": "code",
   "execution_count": 454,
   "metadata": {
    "collapsed": true,
    "deletable": true,
    "editable": true
   },
   "outputs": [],
   "source": [
    "def create_lstm_test_data(df, X_features, Y_label):\n",
    "    x_df, y_df = extract_features(df, X_features, Y_label)\n",
    "\n",
    "    X = x_df.as_matrix()\n",
    "    Y = y_df.as_matrix()\n",
    "\n",
    "    X, Y = create_window_features_lstm(X, Y)\n",
    "    return X, Y"
   ]
  },
  {
   "cell_type": "markdown",
   "metadata": {
    "deletable": true,
    "editable": true
   },
   "source": [
    "---\n",
    "# Build predict FX helpers"
   ]
  },
  {
   "cell_type": "markdown",
   "metadata": {
    "deletable": true,
    "editable": true
   },
   "source": [
    "Neural networks predict helpers"
   ]
  },
  {
   "cell_type": "code",
   "execution_count": 455,
   "metadata": {
    "collapsed": true,
    "deletable": true,
    "editable": true
   },
   "outputs": [],
   "source": [
    "def predict_nn(nn, df, X, Y, window_length=3):\n",
    "    df_with_window = df[0:-window_length]\n",
    "    preds = nn.predict(X)\n",
    "    results = np.argmax(preds, axis=1).reshape(len(preds), 1)\n",
    "    \n",
    "    # save to new df\n",
    "    df_with_window['indoors_prediction'] = results\n",
    "    \n",
    "    # print acc stats\n",
    "    accuracy = nn.evaluate(X, Y, verbose=0)[1]\n",
    "    \n",
    "    return df_with_window, accuracy\n",
    "\n",
    "def predict_lstm(nn, df, X, Y, window_length=lstm_window_size):\n",
    "\n",
    "    df_with_window = df[0:-window_length]\n",
    "    preds = nn.predict(X)\n",
    "    results = np.argmax(preds, axis=1).reshape(len(preds), 1)\n",
    "    \n",
    "    # save to new df\n",
    "    df_with_window['indoors_prediction'] = results\n",
    "    \n",
    "    # print acc stats\n",
    "    accuracy = nn.evaluate(X, Y, verbose=0)[1]\n",
    "    \n",
    "    return df_with_window, accuracy"
   ]
  },
  {
   "cell_type": "code",
   "execution_count": 456,
   "metadata": {
    "collapsed": true,
    "deletable": true,
    "editable": true
   },
   "outputs": [],
   "source": [
    "def predict_dfs_lstm(frames):\n",
    "    accuracies = []\n",
    "    predicted = []\n",
    "    for df in frames:\n",
    "        X, Y = create_lstm_test_data(df, X_features =\n",
    "                            ['gps_vertical_accuracy', \n",
    "                             'gps_horizontal_accuracy', \n",
    "                             'gps_speed', \n",
    "                             'rssi_strength', \n",
    "                             'magnet_total'], \n",
    "                            Y_label='indoors')\n",
    "        df, accuracy = predict_lstm(lstm, df, X, Y)\n",
    "        predicted.append(df)\n",
    "        accuracies.append(float(\"{0:.2f}\".format(accuracy)))\n",
    "    avg_acc = np.mean(accuracies)\n",
    "    print('avg acc NN: ', float(\"{0:.3f}\".format(avg_acc)))\n",
    "    return predicted, accuracies\n",
    "\n",
    "def predict_dfs_nn(frames):\n",
    "    accuracies = []\n",
    "    predicted = []\n",
    "    for df in frames:\n",
    "        X, Y = create_test_data(df, X_features =\n",
    "                            ['gps_vertical_accuracy', \n",
    "                             'gps_horizontal_accuracy', \n",
    "                             'gps_speed', \n",
    "                             'rssi_strength', \n",
    "                             'magnet_total'], \n",
    "                            Y_label='indoors', nn_format=True)\n",
    "        df, accuracy = predict_nn(nn, df, X, Y)\n",
    "        predicted.append(df)\n",
    "        accuracies.append(float(\"{0:.2f}\".format(accuracy)))\n",
    "    avg_acc = np.mean(accuracies)\n",
    "    print('avg acc NN: ', float(\"{0:.3f}\".format(avg_acc)))\n",
    "    return predicted, accuracies\n"
   ]
  },
  {
   "cell_type": "markdown",
   "metadata": {
    "deletable": true,
    "editable": true
   },
   "source": [
    "Random forest predict helpers"
   ]
  },
  {
   "cell_type": "code",
   "execution_count": 457,
   "metadata": {
    "collapsed": true,
    "deletable": true,
    "editable": true
   },
   "outputs": [],
   "source": [
    "def predict_model(model, df, X, Y, window_length=3):\n",
    "    df_with_window = df[0:-window_length]\n",
    "    preds = model.predict(X)\n",
    "    results = preds.reshape(len(X), 1)\n",
    "    \n",
    "    # save to new df\n",
    "    df_with_window['indoors_prediction'] = results\n",
    "    \n",
    "    # print acc stats\n",
    "    accuracy = df_with_window[df_with_window.indoors == df_with_window.indoors_prediction].count()['indoors'] / float(len(df_with_window))\n",
    "    \n",
    "    return df_with_window, accuracy\n",
    "\n",
    "def predict_model_hmm(model, df, X, Y):\n",
    "    df_with_window = df\n",
    "\n",
    "    Y_hat = model.predict(X)\n",
    "    results = Y_hat.reshape(len(X), 1)\n",
    "    \n",
    "    # save to new df\n",
    "    df_with_window['indoors_prediction'] = results\n",
    "    \n",
    "    # print acc stats\n",
    "\n",
    "    accuracy = np.equal(Y_hat.flatten(), Y.flatten()).sum() / float(Y.shape[0])\n",
    "    \n",
    "    return df_with_window, accuracy"
   ]
  },
  {
   "cell_type": "code",
   "execution_count": 458,
   "metadata": {
    "collapsed": true,
    "deletable": true,
    "editable": true
   },
   "outputs": [],
   "source": [
    "def predict_dfs_sklearn_hmm(model, frames, model_name):\n",
    "    accuracies = []\n",
    "    predicted = []\n",
    "    for df in frames:\n",
    "        X, Y = create_test_data(df, X_features =\n",
    "                            ['gps_vertical_accuracy', \n",
    "                             'gps_horizontal_accuracy', \n",
    "                             'gps_speed', \n",
    "                             'rssi_strength', \n",
    "                             'magnet_total'], \n",
    "                            Y_label='indoors', nn_format=False, hmm_format=True)\n",
    "        df, accuracy = predict_model_hmm(model, df, X, Y)\n",
    "        predicted.append(df)\n",
    "        accuracies.append(float(\"{0:.2f}\".format(accuracy)))\n",
    "    avg_acc = np.mean(accuracies)\n",
    "    print('avg acc {}: '.format(model_name), float(\"{0:.3f}\".format(avg_acc)))\n",
    "    return predicted, accuracies"
   ]
  },
  {
   "cell_type": "code",
   "execution_count": 459,
   "metadata": {
    "collapsed": true,
    "deletable": true,
    "editable": true
   },
   "outputs": [],
   "source": [
    "def predict_dfs_sklearn_model(model, frames, model_name):\n",
    "    accuracies = []\n",
    "    predicted = []\n",
    "    for df in frames:\n",
    "        X, Y = create_test_data(df, X_features =\n",
    "                            ['gps_vertical_accuracy', \n",
    "                             'gps_horizontal_accuracy', \n",
    "                             'gps_speed', \n",
    "                             'rssi_strength', \n",
    "                             'magnet_total'], \n",
    "                            Y_label='indoors', nn_format=False)\n",
    "        df, accuracy = predict_model(model, df, X, Y)\n",
    "        predicted.append(df)\n",
    "        accuracies.append(float(\"{0:.2f}\".format(accuracy)))\n",
    "    avg_acc = np.mean(accuracies)\n",
    "    print('avg acc {}: '.format(model_name), float(\"{0:.3f}\".format(avg_acc)))\n",
    "    return predicted, accuracies "
   ]
  },
  {
   "cell_type": "code",
   "execution_count": 460,
   "metadata": {
    "collapsed": true,
    "deletable": true,
    "editable": true
   },
   "outputs": [],
   "source": [
    "def ground_truth_floor(test_name):\n",
    "    real_floor = test_name.split('_')\n",
    "    print(real_floor)\n",
    "    real_floor_start = int(real_floor[2])\n",
    "    real_floor_end = int(real_floor[-1].split('.')[0])\n",
    "    floor_delta = real_floor_end - real_floor_start\n",
    "    #floor_delta = floor_delta + 1 if real_floor_start < real_floor_end else floor_delta - 1\n",
    "    return floor_delta, real_floor_start, real_floor_end"
   ]
  },
  {
   "cell_type": "markdown",
   "metadata": {
    "deletable": true,
    "editable": true
   },
   "source": [
    "---\n",
    "# Find I/O intervals\n",
    "Find in/out intervals by looking at the classification results. Use a rolling window that checks on cosine distance to find the best matches"
   ]
  },
  {
   "cell_type": "code",
   "execution_count": 461,
   "metadata": {
    "collapsed": true,
    "deletable": true,
    "editable": true
   },
   "outputs": [],
   "source": [
    "def find_io_intervals(dfa, min_similarity):\n",
    "    # ---------------\n",
    "    # define IO vector mask\n",
    "    target_vector_in_out = [1, 1, 1, 1, 1, 0, 0, 0, 0, 0]\n",
    "    target_vector_in_out = np.add(target_vector_in_out, 1).tolist()\n",
    "    target_vector_out_in = target_vector_in_out[::-1]\n",
    "    window_size = len(target_vector_in_out)\n",
    "\n",
    "    preds = dfa['indoors_prediction'].tolist()\n",
    "    # ---------------\n",
    "    # find matches\n",
    "    matches = []\n",
    "    for i in range(0, len(preds) - window_size):\n",
    "        vec = preds[i: i + window_size]\n",
    "        vec = np.add(vec, 1)\n",
    "        \n",
    "        dist_a = distance.jaccard(target_vector_in_out, vec)\n",
    "        dist_b = distance.jaccard(vec, target_vector_out_in)\n",
    "        \n",
    "        if dist_a >= min_similarity:\n",
    "            matches.append(i)\n",
    "\n",
    "        elif dist_b >= min_similarity:\n",
    "            matches.append(i)\n",
    "\n",
    "    sorted(matches)\n",
    "    \n",
    "    # ---------------\n",
    "    # Group matches\n",
    "    merged = [(matches[0], matches[0] + 2)]\n",
    "    for start in matches[1:]:\n",
    "        end = start+2\n",
    "\n",
    "        merged_start, merged_end = merged[-1]\n",
    "\n",
    "        if (start <= merged_end):\n",
    "            merged[-1] = (merged_start, max(merged_end, end))\n",
    "\n",
    "        else:\n",
    "            merged.append((start, end))\n",
    "        \n",
    "    # --------------\n",
    "    # FIND PEAKS\n",
    "    #print('Merged interval groups:')\n",
    "    #print(merged)\n",
    "    stack = []\n",
    "    for x, y in merged:\n",
    "        avg = np.mean([x,y])\n",
    "        stack.append(avg)\n",
    "\n",
    "    #print('\\nFinal Transition locations (ith datapoint):')\n",
    "    #print(stack)\n",
    "    peaks_detected_by_classifier = stack\n",
    "    return peaks_detected_by_classifier"
   ]
  },
  {
   "cell_type": "code",
   "execution_count": 462,
   "metadata": {
    "collapsed": true,
    "deletable": true,
    "editable": true
   },
   "outputs": [],
   "source": [
    "def find_io_intervals_cosine(dfa, min_similarity):\n",
    "    # ---------------\n",
    "    # define IO vector mask\n",
    "    target_vector_in_out = [1, 1, 1, 1, 1, 0, 0, 0, 0, 0]\n",
    "    target_vector_in_out = np.add(target_vector_in_out, 1).tolist()\n",
    "    window_size = len(target_vector_in_out)\n",
    "    target_vector_out_in = target_vector_in_out[::-1]\n",
    "    target_vector_in_out = np.asarray(target_vector_in_out).reshape(1,-1)\n",
    "    target_vector_out_in = np.asarray(target_vector_out_in).reshape(1,-1)\n",
    "    \n",
    "\n",
    "    preds = dfa['indoors_prediction'].tolist()\n",
    "    # ---------------\n",
    "    # find matches\n",
    "    matches = []\n",
    "    for i in range(0, len(preds) - window_size):\n",
    "        vec = np.asarray(preds[i: i + window_size]).reshape(1,-1)\n",
    "        vec = np.add(vec, 1)\n",
    "\n",
    "        dist_a = cosine_similarity(target_vector_in_out, vec)\n",
    "        dist_b = cosine_similarity(vec, target_vector_out_in)\n",
    "        \n",
    "        if dist_a >= min_similarity:\n",
    "            matches.append(i)\n",
    "\n",
    "        elif dist_b >= min_similarity:\n",
    "            matches.append(i)\n",
    "\n",
    "    sorted(matches)\n",
    "    \n",
    "    # ---------------\n",
    "    # Group matches\n",
    "    merged = [(matches[0], matches[0] + 2)]\n",
    "    for start in matches[1:]:\n",
    "        end = start+2\n",
    "\n",
    "        merged_start, merged_end = merged[-1]\n",
    "\n",
    "        if (start <= merged_end):\n",
    "            merged[-1] = (merged_start, max(merged_end, end))\n",
    "\n",
    "        else:\n",
    "            merged.append((start, end))\n",
    "        \n",
    "    # --------------\n",
    "    # FIND PEAKS\n",
    "    #print('Merged interval groups:')\n",
    "    #print(merged)\n",
    "    stack = []\n",
    "    for x, y in merged:\n",
    "        avg = np.mean([x,y])\n",
    "        stack.append(avg)\n",
    "\n",
    "    #print('\\nFinal Transition locations (ith datapoint):')\n",
    "    #print(stack)\n",
    "    peaks_detected_by_classifier = stack\n",
    "    return peaks_detected_by_classifier"
   ]
  },
  {
   "cell_type": "markdown",
   "metadata": {
    "collapsed": true,
    "deletable": true,
    "editable": true
   },
   "source": [
    "---\n",
    "## Find floor location using baro pressure"
   ]
  },
  {
   "cell_type": "markdown",
   "metadata": {
    "collapsed": true,
    "deletable": true,
    "editable": true
   },
   "source": [
    "Plot barometric timeseries"
   ]
  },
  {
   "cell_type": "markdown",
   "metadata": {
    "deletable": true,
    "editable": true
   },
   "source": [
    "---\n",
    "## Calculate floor level change from last IN/OUT transition"
   ]
  },
  {
   "cell_type": "markdown",
   "metadata": {
    "deletable": true,
    "editable": true
   },
   "source": [
    "Pull the datapoint at the peak index"
   ]
  },
  {
   "cell_type": "code",
   "execution_count": 463,
   "metadata": {
    "collapsed": true,
    "deletable": true,
    "editable": true,
    "scrolled": false
   },
   "outputs": [],
   "source": [
    "def get_last_transition_dp(dfa, peaks_detected_by_classifier):\n",
    "    last_transition_index = int(peaks_detected_by_classifier[-1])\n",
    "    dp = dfa.iloc[[last_transition_index]]\n",
    "    return dp, last_transition_index"
   ]
  },
  {
   "cell_type": "markdown",
   "metadata": {
    "deletable": true,
    "editable": true
   },
   "source": [
    "Pull the datapoint at the last known index (where user is)"
   ]
  },
  {
   "cell_type": "markdown",
   "metadata": {
    "deletable": true,
    "editable": true
   },
   "source": [
    "---\n",
    "### Determine peak at min/max if delta is +-\n",
    "We look at a window before and after the last transition point and average these points to determine the direction of change. Then we'll find the max if the direction is negative or the min if the direction is positive"
   ]
  },
  {
   "cell_type": "code",
   "execution_count": 464,
   "metadata": {
    "collapsed": true,
    "deletable": true,
    "editable": true
   },
   "outputs": [],
   "source": [
    "def find_optimal_transition_point(dfa, last_transition_index):\n",
    "    num_points_around_transition = 10\n",
    "    lookback_window = 20\n",
    "    #print('last transition idx: ', last_transition_index)\n",
    "    \n",
    "    before = dfa[last_transition_index - num_points_around_transition : last_transition_index]\n",
    "    after = dfa[last_transition_index : last_transition_index + num_points_around_transition]\n",
    "    before_mean_pressure = np.mean(before.baro_pressure)\n",
    "    after_mean_pressure = np.mean(after.baro_pressure)\n",
    "    direction_change = \"pos\" if before_mean_pressure < after_mean_pressure else \"neg\"\n",
    "\n",
    "    if direction_change is \"pos\":\n",
    "        optimal_point = np.argmin(dfa.baro_pressure[last_transition_index - lookback_window : last_transition_index]) \n",
    "    else:\n",
    "        optimal_point = np.argmax(dfa.baro_pressure[last_transition_index - lookback_window : last_transition_index]) \n",
    "\n",
    "    #print('optimal transition idx: ', optimal_point)\n",
    "    dp = dfa.iloc[[optimal_point]]\n",
    "    \n",
    "    return dp"
   ]
  },
  {
   "cell_type": "markdown",
   "metadata": {
    "deletable": true,
    "editable": true
   },
   "source": [
    "---\n",
    "Calculate current floor from rel altitude change"
   ]
  },
  {
   "cell_type": "code",
   "execution_count": 465,
   "metadata": {
    "collapsed": true,
    "deletable": true,
    "editable": true
   },
   "outputs": [],
   "source": [
    "def predict_current_floor(dp, last_dp, floor_height_meters):\n",
    "    # pressure readings at time of last transition\n",
    "    transition_device_pressure = dp.baro_pressure.values[0]\n",
    "    weather_pressure_at_transition = dp.weather_pressure.values[0]\n",
    "\n",
    "    # pressure readings at current point\n",
    "    current_device_pressure = last_dp.baro_pressure.values[0]\n",
    "    current_weather_pressure = last_dp.weather_pressure.values[0]\n",
    "\n",
    "    # calculate weather pressure delta\n",
    "    weather_pressure_delta = current_weather_pressure - weather_pressure_at_transition\n",
    "\n",
    "    # calculate device pressure delta\n",
    "    weather_adjusted_start_device_pressure = transition_device_pressure + weather_pressure_delta\n",
    "\n",
    "    # this is the difference between pressures formula\n",
    "    # the answer is in meters\n",
    "    total_meter_change = 44330 * (1 - (current_device_pressure/weather_adjusted_start_device_pressure)**(1/5.255))\n",
    "\n",
    "    # floor detection rule\n",
    "    floor_delta = int(total_meter_change / floor_height_meters)\n",
    "    if floor_delta >= 0:\n",
    "        current_floor = 1 + floor_delta\n",
    "    else:\n",
    "        current_floor = floor_delta\n",
    "    \n",
    "    return current_floor, total_meter_change, floor_delta"
   ]
  },
  {
   "cell_type": "code",
   "execution_count": 466,
   "metadata": {
    "collapsed": true,
    "deletable": true,
    "editable": true
   },
   "outputs": [],
   "source": [
    "def calculate_total_meter_change(dp, last_dp):\n",
    "    # pressure readings at time of last transition\n",
    "    transition_device_pressure = dp.baro_pressure.values[0]\n",
    "    weather_pressure_at_transition = dp.weather_pressure.values[0]\n",
    "\n",
    "    # pressure readings at current point\n",
    "    current_device_pressure = last_dp.baro_pressure.values[0]\n",
    "    current_weather_pressure = last_dp.weather_pressure.values[0]\n",
    "\n",
    "    # calculate weather pressure delta\n",
    "    weather_pressure_delta = current_weather_pressure - weather_pressure_at_transition\n",
    "\n",
    "    # calculate device pressure delta\n",
    "    weather_adjusted_start_device_pressure = transition_device_pressure + weather_pressure_delta\n",
    "\n",
    "    # this is the difference between pressures formula\n",
    "    # the answer is in meters\n",
    "    total_meter_change = 44330 * (1 - (current_device_pressure/weather_adjusted_start_device_pressure)**(1/5.255))\n",
    "\n",
    "    return total_meter_change"
   ]
  },
  {
   "cell_type": "markdown",
   "metadata": {
    "collapsed": true,
    "deletable": true,
    "editable": true
   },
   "source": [
    "---\n",
    "Determine if outside or inside right now"
   ]
  },
  {
   "cell_type": "code",
   "execution_count": 467,
   "metadata": {
    "collapsed": true,
    "deletable": true,
    "editable": true
   },
   "outputs": [],
   "source": [
    "def get_io_status(dfa, last_transition_index):\n",
    "    after_last_transition_points = dfa[last_transition_index : ]\n",
    "    indoor_preds = after_last_transition_points.indoors_prediction\n",
    "    pcnt_inside = indoor_preds[indoor_preds == 1].sum() / float(len(indoor_preds))\n",
    "    inside_status = 'indoors' if pcnt_inside > 0.5 else 'outdoors'\n",
    "    return inside_status"
   ]
  },
  {
   "cell_type": "code",
   "execution_count": 468,
   "metadata": {
    "collapsed": true,
    "deletable": true,
    "editable": true
   },
   "outputs": [],
   "source": [
    "# colors\n",
    "non_primary_alpha = 0.3\n",
    "C_1 = (0,0,0,non_primary_alpha)\n",
    "C_2 = (1.0, 0.0, 0.0, non_primary_alpha)\n",
    "C_3 = (0.2,0.59,0.85,non_primary_alpha)\n",
    "C_4 = (0.6,0.35,0.71,non_primary_alpha)\n",
    "C_5 = (0.9,0.5,0.13,non_primary_alpha)\n",
    "C_primary = 'blue'\n",
    "C_primary_2 = 'orange'\n",
    "C_secondary = (0, 0, 1, 0.3)"
   ]
  },
  {
   "cell_type": "code",
   "execution_count": 469,
   "metadata": {
    "collapsed": true,
    "deletable": true,
    "editable": true
   },
   "outputs": [],
   "source": [
    "def plot_baro(dfa, dataset_name):\n",
    "    # -----------\n",
    "    # predicted in out\n",
    "    # Plot the indoor vs outdoor true state\n",
    "    plt.ylabel('pressure reading')\n",
    "    plt.plot(dfa['baro_pressure'].tolist(), label='Baro pressure', color=C_primary)\n",
    "    #plt.legend(bbox_to_anchor=(1.05, 1), loc=2, borderaxespad=0.)\n",
    "    #plt.ylim((-1,2))\n",
    "    savefig('./images/{}_baro_pressure.png'.format(dataset_name), bbox_inches='tight')\n",
    "    plt.show()\n",
    "\n",
    "\n",
    "    # -----------\n",
    "    # predicted in out\n",
    "    # Plot the indoor vs outdoor true state\n",
    "    plt.ylabel('Rel altitude reading')\n",
    "    plt.plot(dfa['baro_relative_altitude'].tolist(), label='Relative altitude', color=C_primary)\n",
    "    plt.legend(bbox_to_anchor=(1.05, 1), loc=2, borderaxespad=0.)\n",
    "    plt.ylim((-1,2))\n",
    "    savefig('./images/{}_relative_altitude.png'.format(dataset_name), bbox_inches='tight')\n",
    "    plt.show()"
   ]
  },
  {
   "cell_type": "code",
   "execution_count": 470,
   "metadata": {
    "collapsed": true,
    "deletable": true,
    "editable": true
   },
   "outputs": [],
   "source": [
    "def find_true_transition(dfa):\n",
    "    for i, row in dfa.iterrows():\n",
    "        if row.indoors == 1:\n",
    "            return i"
   ]
  },
  {
   "cell_type": "code",
   "execution_count": 471,
   "metadata": {
    "collapsed": true,
    "deletable": true,
    "editable": true
   },
   "outputs": [],
   "source": [
    "def plot_classification(dfa, peaks_detected_by_classifier, optimal_trans_dp, dataset_name):\n",
    "    # -----------------------\n",
    "    # FEAUTRES GRAPH\n",
    "    # vertical accuracy graph\n",
    "    \n",
    "    hor_accu = (dfa['gps_horizontal_accuracy'] / max(dfa['gps_horizontal_accuracy']) ).tolist()\n",
    "    ver_accu = (dfa['gps_vertical_accuracy'] / max(dfa['gps_vertical_accuracy']) ).tolist()\n",
    "    magnet = (dfa['magnet_total'] / max(dfa['magnet_total']) ).tolist()\n",
    "    rssi = (dfa['rssi_strength'] / max(dfa['rssi_strength']) ).tolist()\n",
    "    gps_speed = (dfa['gps_speed'] / max(dfa['gps_speed']) ).tolist()\n",
    "    plt.plot(hor_accu, label='GPS Hor Accuracy', color=C_1)\n",
    "    plt.plot(ver_accu, label='GPS Vert Accuracy', color=C_2)\n",
    "    plt.plot(magnet, label='Magnetometer strength', color=C_3)\n",
    "    plt.plot(rssi, label='Cell RSSI strength', color=C_4)\n",
    "    plt.plot(gps_speed, label='GPS Speed', color=C_5)\n",
    "    plt.ylabel('Transitions via NNIO Classifier')\n",
    "\n",
    "\n",
    "    # These are peaks discovered via the classifier\n",
    "    # plot peaks via classifier method\n",
    "    for i, peak in enumerate(peaks_detected_by_classifier):\n",
    "        label = 'InOut transition via NNIO' if i == 0 else None\n",
    "        plt.axvline(x=peak, color=C_secondary, label=label, linestyle='--')\n",
    "    \n",
    "    # plot the optimal transition point\n",
    "    plt.axvline(x=optimal_trans_dp, color=C_primary, label='Estimated InOut transition', linestyle='--')\n",
    "    \n",
    "    # find true transition\n",
    "    true_transition = find_true_transition(dfa)\n",
    "    plt.axvline(x=true_transition, color=C_primary_2, label='True transition', linestyle='-')\n",
    "\n",
    "    plt.legend(loc=1)\n",
    "    plt.ylim((-1,2))\n",
    "    savefig('./images/{}_features.png'.format(dataset_name), bbox_inches='tight')\n",
    "    plt.show()\n",
    "\n",
    "    # ----------------------------\n",
    "    # IN/OUT GRAPH\n",
    "    # true in/out\n",
    "    plt.subplot(212)\n",
    "    plt.ylabel('1=in 0=out')\n",
    "    plt.plot(dfa['indoors'].tolist(), label='In/Out Truth')\n",
    "    plt.legend(loc=1)\n",
    "    plt.subplot(212)\n",
    "\n",
    "    # predicted in out\n",
    "    plt.ylabel('1=in 0=out')\n",
    "    plt.plot(dfa['indoors_prediction'].tolist(), label='In/Out prediction NNIO')\n",
    "    plt.legend(loc=0)\n",
    "    plt.ylim((-1,3))\n",
    "    savefig('./images/{}_IO_class.png'.format(dataset_name), bbox_inches='tight')\n",
    "    plt.show()"
   ]
  },
  {
   "cell_type": "markdown",
   "metadata": {
    "deletable": true,
    "editable": true
   },
   "source": [
    "---\n",
    "## TEST CLASSIFICATION\n",
    " ---"
   ]
  },
  {
   "cell_type": "code",
   "execution_count": 472,
   "metadata": {
    "collapsed": false,
    "deletable": true,
    "editable": true
   },
   "outputs": [
    {
     "name": "stdout",
     "output_type": "stream",
     "text": [
      "avg acc RF:  0.843\n",
      "avg acc SVM:  0.874\n",
      "avg acc LG:  0.663\n"
     ]
    },
    {
     "name": "stderr",
     "output_type": "stream",
     "text": [
      "/Users/waf/anaconda/envs/analysis/lib/python3.4/site-packages/sklearn/utils/deprecation.py:70: DeprecationWarning: Function log_multivariate_normal_density is deprecated; The function log_multivariate_normal_density is deprecated in 0.18 and will be removed in 0.20.\n",
      "  warnings.warn(msg, category=DeprecationWarning)\n",
      "/Users/waf/anaconda/envs/analysis/lib/python3.4/site-packages/sklearn/utils/deprecation.py:70: DeprecationWarning: Function log_multivariate_normal_density is deprecated; The function log_multivariate_normal_density is deprecated in 0.18 and will be removed in 0.20.\n",
      "  warnings.warn(msg, category=DeprecationWarning)\n",
      "/Users/waf/anaconda/envs/analysis/lib/python3.4/site-packages/sklearn/utils/deprecation.py:70: DeprecationWarning: Function log_multivariate_normal_density is deprecated; The function log_multivariate_normal_density is deprecated in 0.18 and will be removed in 0.20.\n",
      "  warnings.warn(msg, category=DeprecationWarning)\n",
      "/Users/waf/anaconda/envs/analysis/lib/python3.4/site-packages/sklearn/utils/deprecation.py:70: DeprecationWarning: Function log_multivariate_normal_density is deprecated; The function log_multivariate_normal_density is deprecated in 0.18 and will be removed in 0.20.\n",
      "  warnings.warn(msg, category=DeprecationWarning)\n",
      "/Users/waf/anaconda/envs/analysis/lib/python3.4/site-packages/sklearn/utils/deprecation.py:70: DeprecationWarning: Function log_multivariate_normal_density is deprecated; The function log_multivariate_normal_density is deprecated in 0.18 and will be removed in 0.20.\n",
      "  warnings.warn(msg, category=DeprecationWarning)\n",
      "/Users/waf/anaconda/envs/analysis/lib/python3.4/site-packages/sklearn/utils/deprecation.py:70: DeprecationWarning: Function log_multivariate_normal_density is deprecated; The function log_multivariate_normal_density is deprecated in 0.18 and will be removed in 0.20.\n",
      "  warnings.warn(msg, category=DeprecationWarning)\n",
      "/Users/waf/anaconda/envs/analysis/lib/python3.4/site-packages/sklearn/utils/deprecation.py:70: DeprecationWarning: Function log_multivariate_normal_density is deprecated; The function log_multivariate_normal_density is deprecated in 0.18 and will be removed in 0.20.\n",
      "  warnings.warn(msg, category=DeprecationWarning)\n",
      "/Users/waf/anaconda/envs/analysis/lib/python3.4/site-packages/sklearn/utils/deprecation.py:70: DeprecationWarning: Function log_multivariate_normal_density is deprecated; The function log_multivariate_normal_density is deprecated in 0.18 and will be removed in 0.20.\n",
      "  warnings.warn(msg, category=DeprecationWarning)\n",
      "/Users/waf/anaconda/envs/analysis/lib/python3.4/site-packages/sklearn/utils/deprecation.py:70: DeprecationWarning: Function log_multivariate_normal_density is deprecated; The function log_multivariate_normal_density is deprecated in 0.18 and will be removed in 0.20.\n",
      "  warnings.warn(msg, category=DeprecationWarning)\n",
      "/Users/waf/anaconda/envs/analysis/lib/python3.4/site-packages/sklearn/utils/deprecation.py:70: DeprecationWarning: Function log_multivariate_normal_density is deprecated; The function log_multivariate_normal_density is deprecated in 0.18 and will be removed in 0.20.\n",
      "  warnings.warn(msg, category=DeprecationWarning)\n",
      "/Users/waf/anaconda/envs/analysis/lib/python3.4/site-packages/sklearn/utils/deprecation.py:70: DeprecationWarning: Function log_multivariate_normal_density is deprecated; The function log_multivariate_normal_density is deprecated in 0.18 and will be removed in 0.20.\n",
      "  warnings.warn(msg, category=DeprecationWarning)\n",
      "/Users/waf/anaconda/envs/analysis/lib/python3.4/site-packages/sklearn/utils/deprecation.py:70: DeprecationWarning: Function log_multivariate_normal_density is deprecated; The function log_multivariate_normal_density is deprecated in 0.18 and will be removed in 0.20.\n",
      "  warnings.warn(msg, category=DeprecationWarning)\n",
      "/Users/waf/anaconda/envs/analysis/lib/python3.4/site-packages/sklearn/utils/deprecation.py:70: DeprecationWarning: Function log_multivariate_normal_density is deprecated; The function log_multivariate_normal_density is deprecated in 0.18 and will be removed in 0.20.\n",
      "  warnings.warn(msg, category=DeprecationWarning)\n",
      "/Users/waf/anaconda/envs/analysis/lib/python3.4/site-packages/sklearn/utils/deprecation.py:70: DeprecationWarning: Function log_multivariate_normal_density is deprecated; The function log_multivariate_normal_density is deprecated in 0.18 and will be removed in 0.20.\n",
      "  warnings.warn(msg, category=DeprecationWarning)\n",
      "/Users/waf/anaconda/envs/analysis/lib/python3.4/site-packages/sklearn/utils/deprecation.py:70: DeprecationWarning: Function log_multivariate_normal_density is deprecated; The function log_multivariate_normal_density is deprecated in 0.18 and will be removed in 0.20.\n",
      "  warnings.warn(msg, category=DeprecationWarning)\n",
      "/Users/waf/anaconda/envs/analysis/lib/python3.4/site-packages/sklearn/utils/deprecation.py:70: DeprecationWarning: Function log_multivariate_normal_density is deprecated; The function log_multivariate_normal_density is deprecated in 0.18 and will be removed in 0.20.\n",
      "  warnings.warn(msg, category=DeprecationWarning)\n",
      "/Users/waf/anaconda/envs/analysis/lib/python3.4/site-packages/sklearn/utils/deprecation.py:70: DeprecationWarning: Function log_multivariate_normal_density is deprecated; The function log_multivariate_normal_density is deprecated in 0.18 and will be removed in 0.20.\n",
      "  warnings.warn(msg, category=DeprecationWarning)\n",
      "/Users/waf/anaconda/envs/analysis/lib/python3.4/site-packages/sklearn/utils/deprecation.py:70: DeprecationWarning: Function log_multivariate_normal_density is deprecated; The function log_multivariate_normal_density is deprecated in 0.18 and will be removed in 0.20.\n",
      "  warnings.warn(msg, category=DeprecationWarning)\n",
      "/Users/waf/anaconda/envs/analysis/lib/python3.4/site-packages/sklearn/utils/deprecation.py:70: DeprecationWarning: Function log_multivariate_normal_density is deprecated; The function log_multivariate_normal_density is deprecated in 0.18 and will be removed in 0.20.\n",
      "  warnings.warn(msg, category=DeprecationWarning)\n",
      "/Users/waf/anaconda/envs/analysis/lib/python3.4/site-packages/sklearn/utils/deprecation.py:70: DeprecationWarning: Function log_multivariate_normal_density is deprecated; The function log_multivariate_normal_density is deprecated in 0.18 and will be removed in 0.20.\n",
      "  warnings.warn(msg, category=DeprecationWarning)\n",
      "/Users/waf/anaconda/envs/analysis/lib/python3.4/site-packages/sklearn/utils/deprecation.py:70: DeprecationWarning: Function log_multivariate_normal_density is deprecated; The function log_multivariate_normal_density is deprecated in 0.18 and will be removed in 0.20.\n",
      "  warnings.warn(msg, category=DeprecationWarning)\n",
      "/Users/waf/anaconda/envs/analysis/lib/python3.4/site-packages/sklearn/utils/deprecation.py:70: DeprecationWarning: Function log_multivariate_normal_density is deprecated; The function log_multivariate_normal_density is deprecated in 0.18 and will be removed in 0.20.\n",
      "  warnings.warn(msg, category=DeprecationWarning)\n",
      "/Users/waf/anaconda/envs/analysis/lib/python3.4/site-packages/sklearn/utils/deprecation.py:70: DeprecationWarning: Function log_multivariate_normal_density is deprecated; The function log_multivariate_normal_density is deprecated in 0.18 and will be removed in 0.20.\n",
      "  warnings.warn(msg, category=DeprecationWarning)\n",
      "/Users/waf/anaconda/envs/analysis/lib/python3.4/site-packages/sklearn/utils/deprecation.py:70: DeprecationWarning: Function log_multivariate_normal_density is deprecated; The function log_multivariate_normal_density is deprecated in 0.18 and will be removed in 0.20.\n",
      "  warnings.warn(msg, category=DeprecationWarning)\n",
      "/Users/waf/anaconda/envs/analysis/lib/python3.4/site-packages/sklearn/utils/deprecation.py:70: DeprecationWarning: Function log_multivariate_normal_density is deprecated; The function log_multivariate_normal_density is deprecated in 0.18 and will be removed in 0.20.\n",
      "  warnings.warn(msg, category=DeprecationWarning)\n",
      "/Users/waf/anaconda/envs/analysis/lib/python3.4/site-packages/sklearn/utils/deprecation.py:70: DeprecationWarning: Function log_multivariate_normal_density is deprecated; The function log_multivariate_normal_density is deprecated in 0.18 and will be removed in 0.20.\n",
      "  warnings.warn(msg, category=DeprecationWarning)\n",
      "/Users/waf/anaconda/envs/analysis/lib/python3.4/site-packages/sklearn/utils/deprecation.py:70: DeprecationWarning: Function log_multivariate_normal_density is deprecated; The function log_multivariate_normal_density is deprecated in 0.18 and will be removed in 0.20.\n",
      "  warnings.warn(msg, category=DeprecationWarning)\n",
      "/Users/waf/anaconda/envs/analysis/lib/python3.4/site-packages/sklearn/utils/deprecation.py:70: DeprecationWarning: Function log_multivariate_normal_density is deprecated; The function log_multivariate_normal_density is deprecated in 0.18 and will be removed in 0.20.\n",
      "  warnings.warn(msg, category=DeprecationWarning)\n",
      "/Users/waf/anaconda/envs/analysis/lib/python3.4/site-packages/sklearn/utils/deprecation.py:70: DeprecationWarning: Function log_multivariate_normal_density is deprecated; The function log_multivariate_normal_density is deprecated in 0.18 and will be removed in 0.20.\n",
      "  warnings.warn(msg, category=DeprecationWarning)\n",
      "/Users/waf/anaconda/envs/analysis/lib/python3.4/site-packages/sklearn/utils/deprecation.py:70: DeprecationWarning: Function log_multivariate_normal_density is deprecated; The function log_multivariate_normal_density is deprecated in 0.18 and will be removed in 0.20.\n",
      "  warnings.warn(msg, category=DeprecationWarning)\n",
      "/Users/waf/anaconda/envs/analysis/lib/python3.4/site-packages/sklearn/utils/deprecation.py:70: DeprecationWarning: Function log_multivariate_normal_density is deprecated; The function log_multivariate_normal_density is deprecated in 0.18 and will be removed in 0.20.\n",
      "  warnings.warn(msg, category=DeprecationWarning)\n",
      "/Users/waf/anaconda/envs/analysis/lib/python3.4/site-packages/sklearn/utils/deprecation.py:70: DeprecationWarning: Function log_multivariate_normal_density is deprecated; The function log_multivariate_normal_density is deprecated in 0.18 and will be removed in 0.20.\n",
      "  warnings.warn(msg, category=DeprecationWarning)\n",
      "/Users/waf/anaconda/envs/analysis/lib/python3.4/site-packages/sklearn/utils/deprecation.py:70: DeprecationWarning: Function log_multivariate_normal_density is deprecated; The function log_multivariate_normal_density is deprecated in 0.18 and will be removed in 0.20.\n",
      "  warnings.warn(msg, category=DeprecationWarning)\n",
      "/Users/waf/anaconda/envs/analysis/lib/python3.4/site-packages/sklearn/utils/deprecation.py:70: DeprecationWarning: Function log_multivariate_normal_density is deprecated; The function log_multivariate_normal_density is deprecated in 0.18 and will be removed in 0.20.\n",
      "  warnings.warn(msg, category=DeprecationWarning)\n",
      "/Users/waf/anaconda/envs/analysis/lib/python3.4/site-packages/sklearn/utils/deprecation.py:70: DeprecationWarning: Function log_multivariate_normal_density is deprecated; The function log_multivariate_normal_density is deprecated in 0.18 and will be removed in 0.20.\n",
      "  warnings.warn(msg, category=DeprecationWarning)\n",
      "/Users/waf/anaconda/envs/analysis/lib/python3.4/site-packages/sklearn/utils/deprecation.py:70: DeprecationWarning: Function log_multivariate_normal_density is deprecated; The function log_multivariate_normal_density is deprecated in 0.18 and will be removed in 0.20.\n",
      "  warnings.warn(msg, category=DeprecationWarning)\n",
      "/Users/waf/anaconda/envs/analysis/lib/python3.4/site-packages/sklearn/utils/deprecation.py:70: DeprecationWarning: Function log_multivariate_normal_density is deprecated; The function log_multivariate_normal_density is deprecated in 0.18 and will be removed in 0.20.\n",
      "  warnings.warn(msg, category=DeprecationWarning)\n",
      "/Users/waf/anaconda/envs/analysis/lib/python3.4/site-packages/sklearn/utils/deprecation.py:70: DeprecationWarning: Function log_multivariate_normal_density is deprecated; The function log_multivariate_normal_density is deprecated in 0.18 and will be removed in 0.20.\n",
      "  warnings.warn(msg, category=DeprecationWarning)\n",
      "/Users/waf/anaconda/envs/analysis/lib/python3.4/site-packages/sklearn/utils/deprecation.py:70: DeprecationWarning: Function log_multivariate_normal_density is deprecated; The function log_multivariate_normal_density is deprecated in 0.18 and will be removed in 0.20.\n",
      "  warnings.warn(msg, category=DeprecationWarning)\n",
      "/Users/waf/anaconda/envs/analysis/lib/python3.4/site-packages/sklearn/utils/deprecation.py:70: DeprecationWarning: Function log_multivariate_normal_density is deprecated; The function log_multivariate_normal_density is deprecated in 0.18 and will be removed in 0.20.\n",
      "  warnings.warn(msg, category=DeprecationWarning)\n",
      "/Users/waf/anaconda/envs/analysis/lib/python3.4/site-packages/sklearn/utils/deprecation.py:70: DeprecationWarning: Function log_multivariate_normal_density is deprecated; The function log_multivariate_normal_density is deprecated in 0.18 and will be removed in 0.20.\n",
      "  warnings.warn(msg, category=DeprecationWarning)\n",
      "/Users/waf/anaconda/envs/analysis/lib/python3.4/site-packages/sklearn/utils/deprecation.py:70: DeprecationWarning: Function log_multivariate_normal_density is deprecated; The function log_multivariate_normal_density is deprecated in 0.18 and will be removed in 0.20.\n",
      "  warnings.warn(msg, category=DeprecationWarning)\n",
      "/Users/waf/anaconda/envs/analysis/lib/python3.4/site-packages/sklearn/utils/deprecation.py:70: DeprecationWarning: Function log_multivariate_normal_density is deprecated; The function log_multivariate_normal_density is deprecated in 0.18 and will be removed in 0.20.\n",
      "  warnings.warn(msg, category=DeprecationWarning)\n",
      "/Users/waf/anaconda/envs/analysis/lib/python3.4/site-packages/sklearn/utils/deprecation.py:70: DeprecationWarning: Function log_multivariate_normal_density is deprecated; The function log_multivariate_normal_density is deprecated in 0.18 and will be removed in 0.20.\n",
      "  warnings.warn(msg, category=DeprecationWarning)\n",
      "/Users/waf/anaconda/envs/analysis/lib/python3.4/site-packages/sklearn/utils/deprecation.py:70: DeprecationWarning: Function log_multivariate_normal_density is deprecated; The function log_multivariate_normal_density is deprecated in 0.18 and will be removed in 0.20.\n",
      "  warnings.warn(msg, category=DeprecationWarning)\n",
      "/Users/waf/anaconda/envs/analysis/lib/python3.4/site-packages/sklearn/utils/deprecation.py:70: DeprecationWarning: Function log_multivariate_normal_density is deprecated; The function log_multivariate_normal_density is deprecated in 0.18 and will be removed in 0.20.\n",
      "  warnings.warn(msg, category=DeprecationWarning)\n",
      "/Users/waf/anaconda/envs/analysis/lib/python3.4/site-packages/sklearn/utils/deprecation.py:70: DeprecationWarning: Function log_multivariate_normal_density is deprecated; The function log_multivariate_normal_density is deprecated in 0.18 and will be removed in 0.20.\n",
      "  warnings.warn(msg, category=DeprecationWarning)\n",
      "/Users/waf/anaconda/envs/analysis/lib/python3.4/site-packages/sklearn/utils/deprecation.py:70: DeprecationWarning: Function log_multivariate_normal_density is deprecated; The function log_multivariate_normal_density is deprecated in 0.18 and will be removed in 0.20.\n",
      "  warnings.warn(msg, category=DeprecationWarning)\n",
      "/Users/waf/anaconda/envs/analysis/lib/python3.4/site-packages/sklearn/utils/deprecation.py:70: DeprecationWarning: Function log_multivariate_normal_density is deprecated; The function log_multivariate_normal_density is deprecated in 0.18 and will be removed in 0.20.\n",
      "  warnings.warn(msg, category=DeprecationWarning)\n",
      "/Users/waf/anaconda/envs/analysis/lib/python3.4/site-packages/sklearn/utils/deprecation.py:70: DeprecationWarning: Function log_multivariate_normal_density is deprecated; The function log_multivariate_normal_density is deprecated in 0.18 and will be removed in 0.20.\n",
      "  warnings.warn(msg, category=DeprecationWarning)\n",
      "/Users/waf/anaconda/envs/analysis/lib/python3.4/site-packages/sklearn/utils/deprecation.py:70: DeprecationWarning: Function log_multivariate_normal_density is deprecated; The function log_multivariate_normal_density is deprecated in 0.18 and will be removed in 0.20.\n",
      "  warnings.warn(msg, category=DeprecationWarning)\n",
      "/Users/waf/anaconda/envs/analysis/lib/python3.4/site-packages/sklearn/utils/deprecation.py:70: DeprecationWarning: Function log_multivariate_normal_density is deprecated; The function log_multivariate_normal_density is deprecated in 0.18 and will be removed in 0.20.\n",
      "  warnings.warn(msg, category=DeprecationWarning)\n",
      "/Users/waf/anaconda/envs/analysis/lib/python3.4/site-packages/sklearn/utils/deprecation.py:70: DeprecationWarning: Function log_multivariate_normal_density is deprecated; The function log_multivariate_normal_density is deprecated in 0.18 and will be removed in 0.20.\n",
      "  warnings.warn(msg, category=DeprecationWarning)\n",
      "/Users/waf/anaconda/envs/analysis/lib/python3.4/site-packages/sklearn/utils/deprecation.py:70: DeprecationWarning: Function log_multivariate_normal_density is deprecated; The function log_multivariate_normal_density is deprecated in 0.18 and will be removed in 0.20.\n",
      "  warnings.warn(msg, category=DeprecationWarning)\n",
      "/Users/waf/anaconda/envs/analysis/lib/python3.4/site-packages/sklearn/utils/deprecation.py:70: DeprecationWarning: Function log_multivariate_normal_density is deprecated; The function log_multivariate_normal_density is deprecated in 0.18 and will be removed in 0.20.\n",
      "  warnings.warn(msg, category=DeprecationWarning)\n",
      "/Users/waf/anaconda/envs/analysis/lib/python3.4/site-packages/sklearn/utils/deprecation.py:70: DeprecationWarning: Function log_multivariate_normal_density is deprecated; The function log_multivariate_normal_density is deprecated in 0.18 and will be removed in 0.20.\n",
      "  warnings.warn(msg, category=DeprecationWarning)\n",
      "/Users/waf/anaconda/envs/analysis/lib/python3.4/site-packages/sklearn/utils/deprecation.py:70: DeprecationWarning: Function log_multivariate_normal_density is deprecated; The function log_multivariate_normal_density is deprecated in 0.18 and will be removed in 0.20.\n",
      "  warnings.warn(msg, category=DeprecationWarning)\n",
      "/Users/waf/anaconda/envs/analysis/lib/python3.4/site-packages/sklearn/utils/deprecation.py:70: DeprecationWarning: Function log_multivariate_normal_density is deprecated; The function log_multivariate_normal_density is deprecated in 0.18 and will be removed in 0.20.\n",
      "  warnings.warn(msg, category=DeprecationWarning)\n",
      "/Users/waf/anaconda/envs/analysis/lib/python3.4/site-packages/sklearn/utils/deprecation.py:70: DeprecationWarning: Function log_multivariate_normal_density is deprecated; The function log_multivariate_normal_density is deprecated in 0.18 and will be removed in 0.20.\n",
      "  warnings.warn(msg, category=DeprecationWarning)\n",
      "/Users/waf/anaconda/envs/analysis/lib/python3.4/site-packages/sklearn/utils/deprecation.py:70: DeprecationWarning: Function log_multivariate_normal_density is deprecated; The function log_multivariate_normal_density is deprecated in 0.18 and will be removed in 0.20.\n",
      "  warnings.warn(msg, category=DeprecationWarning)\n",
      "/Users/waf/anaconda/envs/analysis/lib/python3.4/site-packages/sklearn/utils/deprecation.py:70: DeprecationWarning: Function log_multivariate_normal_density is deprecated; The function log_multivariate_normal_density is deprecated in 0.18 and will be removed in 0.20.\n",
      "  warnings.warn(msg, category=DeprecationWarning)\n",
      "/Users/waf/anaconda/envs/analysis/lib/python3.4/site-packages/sklearn/utils/deprecation.py:70: DeprecationWarning: Function log_multivariate_normal_density is deprecated; The function log_multivariate_normal_density is deprecated in 0.18 and will be removed in 0.20.\n",
      "  warnings.warn(msg, category=DeprecationWarning)\n",
      "/Users/waf/anaconda/envs/analysis/lib/python3.4/site-packages/sklearn/utils/deprecation.py:70: DeprecationWarning: Function log_multivariate_normal_density is deprecated; The function log_multivariate_normal_density is deprecated in 0.18 and will be removed in 0.20.\n",
      "  warnings.warn(msg, category=DeprecationWarning)\n"
     ]
    },
    {
     "name": "stdout",
     "output_type": "stream",
     "text": [
      "avg acc HMM:  0.618\n",
      "avg acc NN:  0.901\n",
      "avg acc NN:  0.901\n"
     ]
    }
   ],
   "source": [
    "def run_flr_find(frames, frames_names):\n",
    "    meter_changes = []\n",
    "    for i, dfa in enumerate(frames):\n",
    "        dfa = frames[i]\n",
    "        test_name = frames_names[i]\n",
    "\n",
    "        # detect peaks\n",
    "        # peaks_detected_by_classifier = find_io_intervals_cosine(dfa, min_similarity=0.7) #0.1\n",
    "        peaks_detected_by_classifier = find_io_intervals(dfa, min_similarity=0.4) #0.1\n",
    "\n",
    "\n",
    "        # find last point a transition happened\n",
    "        last_transition_dp, last_transition_index = get_last_transition_dp(dfa, peaks_detected_by_classifier)\n",
    "\n",
    "        # last dp of user loc\n",
    "        last_dp = dfa.iloc[[-1]]\n",
    "\n",
    "        # find point where the optimal transition happened\n",
    "        # this is the lowest point around a transition window\n",
    "        optimal_trans_dp = find_optimal_transition_point(dfa, last_transition_index)\n",
    "\n",
    "        # make floor pred\n",
    "        total_meter_change = calculate_total_meter_change(optimal_trans_dp, last_dp)\n",
    "\n",
    "        meter_changes.append(abs(total_meter_change))\n",
    "        \n",
    "        \n",
    "    df = pd.DataFrame(meter_changes)\n",
    "    df.to_csv('/Users/waf/Desktop/meters.csv')\n",
    "    return df\n",
    "    \n",
    "focus_exp_name = ''\n",
    "frames, frames_names = load_data(focus_exp_name)                      \n",
    "#print('num experiments: ', len(frames))\n",
    "\n",
    "meters = run_flr_find(frames,frames_names).values.flatten()\n",
    "#print(meters)\n",
    "\n"
   ]
  },
  {
   "cell_type": "code",
   "execution_count": 502,
   "metadata": {
    "collapsed": false,
    "deletable": true,
    "editable": true
   },
   "outputs": [
    {
     "name": "stdout",
     "output_type": "stream",
     "text": [
      "avg acc RF:  0.843\n",
      "avg acc SVM:  0.874\n",
      "avg acc LG:  0.663\n"
     ]
    },
    {
     "name": "stderr",
     "output_type": "stream",
     "text": [
      "/Users/waf/anaconda/envs/analysis/lib/python3.4/site-packages/sklearn/utils/deprecation.py:70: DeprecationWarning: Function log_multivariate_normal_density is deprecated; The function log_multivariate_normal_density is deprecated in 0.18 and will be removed in 0.20.\n",
      "  warnings.warn(msg, category=DeprecationWarning)\n",
      "/Users/waf/anaconda/envs/analysis/lib/python3.4/site-packages/sklearn/utils/deprecation.py:70: DeprecationWarning: Function log_multivariate_normal_density is deprecated; The function log_multivariate_normal_density is deprecated in 0.18 and will be removed in 0.20.\n",
      "  warnings.warn(msg, category=DeprecationWarning)\n",
      "/Users/waf/anaconda/envs/analysis/lib/python3.4/site-packages/sklearn/utils/deprecation.py:70: DeprecationWarning: Function log_multivariate_normal_density is deprecated; The function log_multivariate_normal_density is deprecated in 0.18 and will be removed in 0.20.\n",
      "  warnings.warn(msg, category=DeprecationWarning)\n",
      "/Users/waf/anaconda/envs/analysis/lib/python3.4/site-packages/sklearn/utils/deprecation.py:70: DeprecationWarning: Function log_multivariate_normal_density is deprecated; The function log_multivariate_normal_density is deprecated in 0.18 and will be removed in 0.20.\n",
      "  warnings.warn(msg, category=DeprecationWarning)\n",
      "/Users/waf/anaconda/envs/analysis/lib/python3.4/site-packages/sklearn/utils/deprecation.py:70: DeprecationWarning: Function log_multivariate_normal_density is deprecated; The function log_multivariate_normal_density is deprecated in 0.18 and will be removed in 0.20.\n",
      "  warnings.warn(msg, category=DeprecationWarning)\n",
      "/Users/waf/anaconda/envs/analysis/lib/python3.4/site-packages/sklearn/utils/deprecation.py:70: DeprecationWarning: Function log_multivariate_normal_density is deprecated; The function log_multivariate_normal_density is deprecated in 0.18 and will be removed in 0.20.\n",
      "  warnings.warn(msg, category=DeprecationWarning)\n",
      "/Users/waf/anaconda/envs/analysis/lib/python3.4/site-packages/sklearn/utils/deprecation.py:70: DeprecationWarning: Function log_multivariate_normal_density is deprecated; The function log_multivariate_normal_density is deprecated in 0.18 and will be removed in 0.20.\n",
      "  warnings.warn(msg, category=DeprecationWarning)\n",
      "/Users/waf/anaconda/envs/analysis/lib/python3.4/site-packages/sklearn/utils/deprecation.py:70: DeprecationWarning: Function log_multivariate_normal_density is deprecated; The function log_multivariate_normal_density is deprecated in 0.18 and will be removed in 0.20.\n",
      "  warnings.warn(msg, category=DeprecationWarning)\n",
      "/Users/waf/anaconda/envs/analysis/lib/python3.4/site-packages/sklearn/utils/deprecation.py:70: DeprecationWarning: Function log_multivariate_normal_density is deprecated; The function log_multivariate_normal_density is deprecated in 0.18 and will be removed in 0.20.\n",
      "  warnings.warn(msg, category=DeprecationWarning)\n",
      "/Users/waf/anaconda/envs/analysis/lib/python3.4/site-packages/sklearn/utils/deprecation.py:70: DeprecationWarning: Function log_multivariate_normal_density is deprecated; The function log_multivariate_normal_density is deprecated in 0.18 and will be removed in 0.20.\n",
      "  warnings.warn(msg, category=DeprecationWarning)\n",
      "/Users/waf/anaconda/envs/analysis/lib/python3.4/site-packages/sklearn/utils/deprecation.py:70: DeprecationWarning: Function log_multivariate_normal_density is deprecated; The function log_multivariate_normal_density is deprecated in 0.18 and will be removed in 0.20.\n",
      "  warnings.warn(msg, category=DeprecationWarning)\n",
      "/Users/waf/anaconda/envs/analysis/lib/python3.4/site-packages/sklearn/utils/deprecation.py:70: DeprecationWarning: Function log_multivariate_normal_density is deprecated; The function log_multivariate_normal_density is deprecated in 0.18 and will be removed in 0.20.\n",
      "  warnings.warn(msg, category=DeprecationWarning)\n",
      "/Users/waf/anaconda/envs/analysis/lib/python3.4/site-packages/sklearn/utils/deprecation.py:70: DeprecationWarning: Function log_multivariate_normal_density is deprecated; The function log_multivariate_normal_density is deprecated in 0.18 and will be removed in 0.20.\n",
      "  warnings.warn(msg, category=DeprecationWarning)\n",
      "/Users/waf/anaconda/envs/analysis/lib/python3.4/site-packages/sklearn/utils/deprecation.py:70: DeprecationWarning: Function log_multivariate_normal_density is deprecated; The function log_multivariate_normal_density is deprecated in 0.18 and will be removed in 0.20.\n",
      "  warnings.warn(msg, category=DeprecationWarning)\n",
      "/Users/waf/anaconda/envs/analysis/lib/python3.4/site-packages/sklearn/utils/deprecation.py:70: DeprecationWarning: Function log_multivariate_normal_density is deprecated; The function log_multivariate_normal_density is deprecated in 0.18 and will be removed in 0.20.\n",
      "  warnings.warn(msg, category=DeprecationWarning)\n",
      "/Users/waf/anaconda/envs/analysis/lib/python3.4/site-packages/sklearn/utils/deprecation.py:70: DeprecationWarning: Function log_multivariate_normal_density is deprecated; The function log_multivariate_normal_density is deprecated in 0.18 and will be removed in 0.20.\n",
      "  warnings.warn(msg, category=DeprecationWarning)\n",
      "/Users/waf/anaconda/envs/analysis/lib/python3.4/site-packages/sklearn/utils/deprecation.py:70: DeprecationWarning: Function log_multivariate_normal_density is deprecated; The function log_multivariate_normal_density is deprecated in 0.18 and will be removed in 0.20.\n",
      "  warnings.warn(msg, category=DeprecationWarning)\n",
      "/Users/waf/anaconda/envs/analysis/lib/python3.4/site-packages/sklearn/utils/deprecation.py:70: DeprecationWarning: Function log_multivariate_normal_density is deprecated; The function log_multivariate_normal_density is deprecated in 0.18 and will be removed in 0.20.\n",
      "  warnings.warn(msg, category=DeprecationWarning)\n",
      "/Users/waf/anaconda/envs/analysis/lib/python3.4/site-packages/sklearn/utils/deprecation.py:70: DeprecationWarning: Function log_multivariate_normal_density is deprecated; The function log_multivariate_normal_density is deprecated in 0.18 and will be removed in 0.20.\n",
      "  warnings.warn(msg, category=DeprecationWarning)\n",
      "/Users/waf/anaconda/envs/analysis/lib/python3.4/site-packages/sklearn/utils/deprecation.py:70: DeprecationWarning: Function log_multivariate_normal_density is deprecated; The function log_multivariate_normal_density is deprecated in 0.18 and will be removed in 0.20.\n",
      "  warnings.warn(msg, category=DeprecationWarning)\n",
      "/Users/waf/anaconda/envs/analysis/lib/python3.4/site-packages/sklearn/utils/deprecation.py:70: DeprecationWarning: Function log_multivariate_normal_density is deprecated; The function log_multivariate_normal_density is deprecated in 0.18 and will be removed in 0.20.\n",
      "  warnings.warn(msg, category=DeprecationWarning)\n",
      "/Users/waf/anaconda/envs/analysis/lib/python3.4/site-packages/sklearn/utils/deprecation.py:70: DeprecationWarning: Function log_multivariate_normal_density is deprecated; The function log_multivariate_normal_density is deprecated in 0.18 and will be removed in 0.20.\n",
      "  warnings.warn(msg, category=DeprecationWarning)\n",
      "/Users/waf/anaconda/envs/analysis/lib/python3.4/site-packages/sklearn/utils/deprecation.py:70: DeprecationWarning: Function log_multivariate_normal_density is deprecated; The function log_multivariate_normal_density is deprecated in 0.18 and will be removed in 0.20.\n",
      "  warnings.warn(msg, category=DeprecationWarning)\n",
      "/Users/waf/anaconda/envs/analysis/lib/python3.4/site-packages/sklearn/utils/deprecation.py:70: DeprecationWarning: Function log_multivariate_normal_density is deprecated; The function log_multivariate_normal_density is deprecated in 0.18 and will be removed in 0.20.\n",
      "  warnings.warn(msg, category=DeprecationWarning)\n",
      "/Users/waf/anaconda/envs/analysis/lib/python3.4/site-packages/sklearn/utils/deprecation.py:70: DeprecationWarning: Function log_multivariate_normal_density is deprecated; The function log_multivariate_normal_density is deprecated in 0.18 and will be removed in 0.20.\n",
      "  warnings.warn(msg, category=DeprecationWarning)\n",
      "/Users/waf/anaconda/envs/analysis/lib/python3.4/site-packages/sklearn/utils/deprecation.py:70: DeprecationWarning: Function log_multivariate_normal_density is deprecated; The function log_multivariate_normal_density is deprecated in 0.18 and will be removed in 0.20.\n",
      "  warnings.warn(msg, category=DeprecationWarning)\n",
      "/Users/waf/anaconda/envs/analysis/lib/python3.4/site-packages/sklearn/utils/deprecation.py:70: DeprecationWarning: Function log_multivariate_normal_density is deprecated; The function log_multivariate_normal_density is deprecated in 0.18 and will be removed in 0.20.\n",
      "  warnings.warn(msg, category=DeprecationWarning)\n",
      "/Users/waf/anaconda/envs/analysis/lib/python3.4/site-packages/sklearn/utils/deprecation.py:70: DeprecationWarning: Function log_multivariate_normal_density is deprecated; The function log_multivariate_normal_density is deprecated in 0.18 and will be removed in 0.20.\n",
      "  warnings.warn(msg, category=DeprecationWarning)\n",
      "/Users/waf/anaconda/envs/analysis/lib/python3.4/site-packages/sklearn/utils/deprecation.py:70: DeprecationWarning: Function log_multivariate_normal_density is deprecated; The function log_multivariate_normal_density is deprecated in 0.18 and will be removed in 0.20.\n",
      "  warnings.warn(msg, category=DeprecationWarning)\n",
      "/Users/waf/anaconda/envs/analysis/lib/python3.4/site-packages/sklearn/utils/deprecation.py:70: DeprecationWarning: Function log_multivariate_normal_density is deprecated; The function log_multivariate_normal_density is deprecated in 0.18 and will be removed in 0.20.\n",
      "  warnings.warn(msg, category=DeprecationWarning)\n",
      "/Users/waf/anaconda/envs/analysis/lib/python3.4/site-packages/sklearn/utils/deprecation.py:70: DeprecationWarning: Function log_multivariate_normal_density is deprecated; The function log_multivariate_normal_density is deprecated in 0.18 and will be removed in 0.20.\n",
      "  warnings.warn(msg, category=DeprecationWarning)\n",
      "/Users/waf/anaconda/envs/analysis/lib/python3.4/site-packages/sklearn/utils/deprecation.py:70: DeprecationWarning: Function log_multivariate_normal_density is deprecated; The function log_multivariate_normal_density is deprecated in 0.18 and will be removed in 0.20.\n",
      "  warnings.warn(msg, category=DeprecationWarning)\n",
      "/Users/waf/anaconda/envs/analysis/lib/python3.4/site-packages/sklearn/utils/deprecation.py:70: DeprecationWarning: Function log_multivariate_normal_density is deprecated; The function log_multivariate_normal_density is deprecated in 0.18 and will be removed in 0.20.\n",
      "  warnings.warn(msg, category=DeprecationWarning)\n",
      "/Users/waf/anaconda/envs/analysis/lib/python3.4/site-packages/sklearn/utils/deprecation.py:70: DeprecationWarning: Function log_multivariate_normal_density is deprecated; The function log_multivariate_normal_density is deprecated in 0.18 and will be removed in 0.20.\n",
      "  warnings.warn(msg, category=DeprecationWarning)\n",
      "/Users/waf/anaconda/envs/analysis/lib/python3.4/site-packages/sklearn/utils/deprecation.py:70: DeprecationWarning: Function log_multivariate_normal_density is deprecated; The function log_multivariate_normal_density is deprecated in 0.18 and will be removed in 0.20.\n",
      "  warnings.warn(msg, category=DeprecationWarning)\n",
      "/Users/waf/anaconda/envs/analysis/lib/python3.4/site-packages/sklearn/utils/deprecation.py:70: DeprecationWarning: Function log_multivariate_normal_density is deprecated; The function log_multivariate_normal_density is deprecated in 0.18 and will be removed in 0.20.\n",
      "  warnings.warn(msg, category=DeprecationWarning)\n",
      "/Users/waf/anaconda/envs/analysis/lib/python3.4/site-packages/sklearn/utils/deprecation.py:70: DeprecationWarning: Function log_multivariate_normal_density is deprecated; The function log_multivariate_normal_density is deprecated in 0.18 and will be removed in 0.20.\n",
      "  warnings.warn(msg, category=DeprecationWarning)\n",
      "/Users/waf/anaconda/envs/analysis/lib/python3.4/site-packages/sklearn/utils/deprecation.py:70: DeprecationWarning: Function log_multivariate_normal_density is deprecated; The function log_multivariate_normal_density is deprecated in 0.18 and will be removed in 0.20.\n",
      "  warnings.warn(msg, category=DeprecationWarning)\n",
      "/Users/waf/anaconda/envs/analysis/lib/python3.4/site-packages/sklearn/utils/deprecation.py:70: DeprecationWarning: Function log_multivariate_normal_density is deprecated; The function log_multivariate_normal_density is deprecated in 0.18 and will be removed in 0.20.\n",
      "  warnings.warn(msg, category=DeprecationWarning)\n",
      "/Users/waf/anaconda/envs/analysis/lib/python3.4/site-packages/sklearn/utils/deprecation.py:70: DeprecationWarning: Function log_multivariate_normal_density is deprecated; The function log_multivariate_normal_density is deprecated in 0.18 and will be removed in 0.20.\n",
      "  warnings.warn(msg, category=DeprecationWarning)\n",
      "/Users/waf/anaconda/envs/analysis/lib/python3.4/site-packages/sklearn/utils/deprecation.py:70: DeprecationWarning: Function log_multivariate_normal_density is deprecated; The function log_multivariate_normal_density is deprecated in 0.18 and will be removed in 0.20.\n",
      "  warnings.warn(msg, category=DeprecationWarning)\n",
      "/Users/waf/anaconda/envs/analysis/lib/python3.4/site-packages/sklearn/utils/deprecation.py:70: DeprecationWarning: Function log_multivariate_normal_density is deprecated; The function log_multivariate_normal_density is deprecated in 0.18 and will be removed in 0.20.\n",
      "  warnings.warn(msg, category=DeprecationWarning)\n",
      "/Users/waf/anaconda/envs/analysis/lib/python3.4/site-packages/sklearn/utils/deprecation.py:70: DeprecationWarning: Function log_multivariate_normal_density is deprecated; The function log_multivariate_normal_density is deprecated in 0.18 and will be removed in 0.20.\n",
      "  warnings.warn(msg, category=DeprecationWarning)\n",
      "/Users/waf/anaconda/envs/analysis/lib/python3.4/site-packages/sklearn/utils/deprecation.py:70: DeprecationWarning: Function log_multivariate_normal_density is deprecated; The function log_multivariate_normal_density is deprecated in 0.18 and will be removed in 0.20.\n",
      "  warnings.warn(msg, category=DeprecationWarning)\n",
      "/Users/waf/anaconda/envs/analysis/lib/python3.4/site-packages/sklearn/utils/deprecation.py:70: DeprecationWarning: Function log_multivariate_normal_density is deprecated; The function log_multivariate_normal_density is deprecated in 0.18 and will be removed in 0.20.\n",
      "  warnings.warn(msg, category=DeprecationWarning)\n",
      "/Users/waf/anaconda/envs/analysis/lib/python3.4/site-packages/sklearn/utils/deprecation.py:70: DeprecationWarning: Function log_multivariate_normal_density is deprecated; The function log_multivariate_normal_density is deprecated in 0.18 and will be removed in 0.20.\n",
      "  warnings.warn(msg, category=DeprecationWarning)\n",
      "/Users/waf/anaconda/envs/analysis/lib/python3.4/site-packages/sklearn/utils/deprecation.py:70: DeprecationWarning: Function log_multivariate_normal_density is deprecated; The function log_multivariate_normal_density is deprecated in 0.18 and will be removed in 0.20.\n",
      "  warnings.warn(msg, category=DeprecationWarning)\n",
      "/Users/waf/anaconda/envs/analysis/lib/python3.4/site-packages/sklearn/utils/deprecation.py:70: DeprecationWarning: Function log_multivariate_normal_density is deprecated; The function log_multivariate_normal_density is deprecated in 0.18 and will be removed in 0.20.\n",
      "  warnings.warn(msg, category=DeprecationWarning)\n",
      "/Users/waf/anaconda/envs/analysis/lib/python3.4/site-packages/sklearn/utils/deprecation.py:70: DeprecationWarning: Function log_multivariate_normal_density is deprecated; The function log_multivariate_normal_density is deprecated in 0.18 and will be removed in 0.20.\n",
      "  warnings.warn(msg, category=DeprecationWarning)\n",
      "/Users/waf/anaconda/envs/analysis/lib/python3.4/site-packages/sklearn/utils/deprecation.py:70: DeprecationWarning: Function log_multivariate_normal_density is deprecated; The function log_multivariate_normal_density is deprecated in 0.18 and will be removed in 0.20.\n",
      "  warnings.warn(msg, category=DeprecationWarning)\n",
      "/Users/waf/anaconda/envs/analysis/lib/python3.4/site-packages/sklearn/utils/deprecation.py:70: DeprecationWarning: Function log_multivariate_normal_density is deprecated; The function log_multivariate_normal_density is deprecated in 0.18 and will be removed in 0.20.\n",
      "  warnings.warn(msg, category=DeprecationWarning)\n",
      "/Users/waf/anaconda/envs/analysis/lib/python3.4/site-packages/sklearn/utils/deprecation.py:70: DeprecationWarning: Function log_multivariate_normal_density is deprecated; The function log_multivariate_normal_density is deprecated in 0.18 and will be removed in 0.20.\n",
      "  warnings.warn(msg, category=DeprecationWarning)\n",
      "/Users/waf/anaconda/envs/analysis/lib/python3.4/site-packages/sklearn/utils/deprecation.py:70: DeprecationWarning: Function log_multivariate_normal_density is deprecated; The function log_multivariate_normal_density is deprecated in 0.18 and will be removed in 0.20.\n",
      "  warnings.warn(msg, category=DeprecationWarning)\n",
      "/Users/waf/anaconda/envs/analysis/lib/python3.4/site-packages/sklearn/utils/deprecation.py:70: DeprecationWarning: Function log_multivariate_normal_density is deprecated; The function log_multivariate_normal_density is deprecated in 0.18 and will be removed in 0.20.\n",
      "  warnings.warn(msg, category=DeprecationWarning)\n",
      "/Users/waf/anaconda/envs/analysis/lib/python3.4/site-packages/sklearn/utils/deprecation.py:70: DeprecationWarning: Function log_multivariate_normal_density is deprecated; The function log_multivariate_normal_density is deprecated in 0.18 and will be removed in 0.20.\n",
      "  warnings.warn(msg, category=DeprecationWarning)\n",
      "/Users/waf/anaconda/envs/analysis/lib/python3.4/site-packages/sklearn/utils/deprecation.py:70: DeprecationWarning: Function log_multivariate_normal_density is deprecated; The function log_multivariate_normal_density is deprecated in 0.18 and will be removed in 0.20.\n",
      "  warnings.warn(msg, category=DeprecationWarning)\n",
      "/Users/waf/anaconda/envs/analysis/lib/python3.4/site-packages/sklearn/utils/deprecation.py:70: DeprecationWarning: Function log_multivariate_normal_density is deprecated; The function log_multivariate_normal_density is deprecated in 0.18 and will be removed in 0.20.\n",
      "  warnings.warn(msg, category=DeprecationWarning)\n",
      "/Users/waf/anaconda/envs/analysis/lib/python3.4/site-packages/sklearn/utils/deprecation.py:70: DeprecationWarning: Function log_multivariate_normal_density is deprecated; The function log_multivariate_normal_density is deprecated in 0.18 and will be removed in 0.20.\n",
      "  warnings.warn(msg, category=DeprecationWarning)\n",
      "/Users/waf/anaconda/envs/analysis/lib/python3.4/site-packages/sklearn/utils/deprecation.py:70: DeprecationWarning: Function log_multivariate_normal_density is deprecated; The function log_multivariate_normal_density is deprecated in 0.18 and will be removed in 0.20.\n",
      "  warnings.warn(msg, category=DeprecationWarning)\n",
      "/Users/waf/anaconda/envs/analysis/lib/python3.4/site-packages/sklearn/utils/deprecation.py:70: DeprecationWarning: Function log_multivariate_normal_density is deprecated; The function log_multivariate_normal_density is deprecated in 0.18 and will be removed in 0.20.\n",
      "  warnings.warn(msg, category=DeprecationWarning)\n",
      "/Users/waf/anaconda/envs/analysis/lib/python3.4/site-packages/sklearn/utils/deprecation.py:70: DeprecationWarning: Function log_multivariate_normal_density is deprecated; The function log_multivariate_normal_density is deprecated in 0.18 and will be removed in 0.20.\n",
      "  warnings.warn(msg, category=DeprecationWarning)\n",
      "/Users/waf/anaconda/envs/analysis/lib/python3.4/site-packages/sklearn/utils/deprecation.py:70: DeprecationWarning: Function log_multivariate_normal_density is deprecated; The function log_multivariate_normal_density is deprecated in 0.18 and will be removed in 0.20.\n",
      "  warnings.warn(msg, category=DeprecationWarning)\n",
      "/Users/waf/anaconda/envs/analysis/lib/python3.4/site-packages/sklearn/utils/deprecation.py:70: DeprecationWarning: Function log_multivariate_normal_density is deprecated; The function log_multivariate_normal_density is deprecated in 0.18 and will be removed in 0.20.\n",
      "  warnings.warn(msg, category=DeprecationWarning)\n"
     ]
    },
    {
     "name": "stdout",
     "output_type": "stream",
     "text": [
      "avg acc HMM:  0.618\n",
      "avg acc NN:  0.901\n",
      "avg acc NN:  0.901\n",
      "num experiments:  63\n",
      "['gsb', 'a', '1', '3.csv']\n",
      "['gsb', 'b', '1', '8.csv']\n",
      "['gsb', 'c', '1', '3.csv']\n",
      "['gsb', 'e', '1', '8.csv']\n",
      "['gsb', 'f', '1', '8.csv']\n",
      "['gsb', 'g', '1', '8.csv']\n",
      "['gsb', 'h', '1', '3.csv']\n",
      "['gsb', 'i', '1', '3.csv']\n",
      "['gsb', 'j', '1', '3.csv']\n",
      "['gsb', 'k', '1', '3.csv']\n",
      "['gsb', 'l', '1', '3.csv']\n",
      "['gsb', 'm', '1', '3.csv']\n",
      "['gsb', 'n', '1', '3.csv']\n",
      "['gsb', 'o', '1', '3.csv']\n",
      "['mudd', 'a', '4', '11.csv']\n",
      "['mudd', 'b', '4', '11.csv']\n",
      "['mudd', 'c', '4', '11.csv']\n",
      "['mudd', 'd', '4', '11.csv']\n",
      "['mudd', 'e', '4', '11.csv']\n",
      "['mudd', 'f', '4', '11.csv']\n",
      "['mudd', 'g', '4', '11.csv']\n",
      "['mudd', 'h', '4', '11.csv']\n",
      "['mudd', 'i', '4', '11.csv']\n",
      "['mudd', 'j', '4', '11.csv']\n",
      "['noco', 'a', '1', '10.csv']\n",
      "['noco', 'b', '1', '10.csv']\n",
      "['noco', 'c', '1', '10.csv']\n",
      "['noco', 'd', '1', '10.csv']\n",
      "['noco', 'e', '1', '10.csv']\n",
      "['noco', 'f', '1', '10.csv']\n",
      "['noco', 'g', '1', '10.csv']\n",
      "['noco', 'h', '1', '10.csv']\n",
      "['noco', 'i', '1', '10.csv']\n",
      "['noco', 'j', '1', '10.csv']\n",
      "['rock', 'a', '1', '10.csv']\n",
      "['rock', 'b', '1', '10.csv']\n",
      "['rock', 'c', '1', '10.csv']\n",
      "['rock', 'e', '1', '10.csv']\n",
      "['rock', 'f', '1', '10.csv']\n",
      "['rock', 'g', '1', '10.csv']\n",
      "['rock', 'h', '1', '10.csv']\n",
      "['rock', 'i', '1', '10.csv']\n",
      "['rock', 'j', '1', '10.csv']\n",
      "['ssw', 'a', '1', '11.csv']\n",
      "['ssw', 'a', '1', '5.csv']\n",
      "['ssw', 'b', '1', '11.csv']\n",
      "['ssw', 'b', '1', '5.csv']\n",
      "['ssw', 'c', '1', '11.csv']\n",
      "['ssw', 'c', '1', '5.csv']\n",
      "['ssw', 'd', '1', '11.csv']\n",
      "['ssw', 'd', '1', '5.csv']\n",
      "['ssw', 'e', '1', '11.csv']\n",
      "['ssw', 'e', '1', '5.csv']\n",
      "['ssw', 'f', '1', '11.csv']\n",
      "['ssw', 'f', '1', '5.csv']\n",
      "['ssw', 'g', '1', '11.csv']\n",
      "['ssw', 'g', '1', '5.csv']\n",
      "['ssw', 'h', '1', '11.csv']\n",
      "['ssw', 'h', '1', '5.csv']\n",
      "['ssw', 'i', '1', '11.csv']\n",
      "['ssw', 'i', '1', '5.csv']\n",
      "['ssw', 'j', '1', '11.csv']\n",
      "['ssw', 'j', '1', '5.csv']\n",
      "               name  pred_delta  predicted  real_delta  test_end  test_start\n",
      "0     gsb_a_1_3.csv           2          3           2         3           1\n",
      "1     gsb_b_1_8.csv           7          8           7         8           1\n",
      "2     gsb_c_1_3.csv           2          3           2         3           1\n",
      "3     gsb_e_1_8.csv           7          8           7         8           1\n",
      "4     gsb_f_1_8.csv           6          7           7         8           1\n",
      "5     gsb_g_1_8.csv           6          7           7         8           1\n",
      "6     gsb_h_1_3.csv           2          3           2         3           1\n",
      "7     gsb_i_1_3.csv           2          3           2         3           1\n",
      "8     gsb_j_1_3.csv           2          3           2         3           1\n",
      "9     gsb_k_1_3.csv           2          3           2         3           1\n",
      "10    gsb_l_1_3.csv           2          3           2         3           1\n",
      "11    gsb_m_1_3.csv           2          3           2         3           1\n",
      "12    gsb_n_1_3.csv           2          3           2         3           1\n",
      "13    gsb_o_1_3.csv           2          3           2         3           1\n",
      "14  mudd_a_4_11.csv           6          7           7        11           4\n",
      "15  mudd_b_4_11.csv           6          7           7        11           4\n",
      "16  mudd_c_4_11.csv           6          7           7        11           4\n",
      "17  mudd_d_4_11.csv           6          7           7        11           4\n",
      "18  mudd_e_4_11.csv           6          7           7        11           4\n",
      "19  mudd_f_4_11.csv           6          7           7        11           4\n",
      "20  mudd_g_4_11.csv           6          7           7        11           4\n",
      "21  mudd_h_4_11.csv           6          7           7        11           4\n",
      "22  mudd_i_4_11.csv           6          7           7        11           4\n",
      "23  mudd_j_4_11.csv           6          7           7        11           4\n",
      "24  noco_a_1_10.csv           9         10           9        10           1\n",
      "25  noco_b_1_10.csv          10         11           9        10           1\n",
      "26  noco_c_1_10.csv           9         10           9        10           1\n",
      "27  noco_d_1_10.csv           9         10           9        10           1\n",
      "28  noco_e_1_10.csv           9         10           9        10           1\n",
      "29  noco_f_1_10.csv           9         10           9        10           1\n",
      "..              ...         ...        ...         ...       ...         ...\n",
      "33  noco_j_1_10.csv           9         10           9        10           1\n",
      "34  rock_a_1_10.csv           8          9           9        10           1\n",
      "35  rock_b_1_10.csv           8          9           9        10           1\n",
      "36  rock_c_1_10.csv           8          9           9        10           1\n",
      "37  rock_e_1_10.csv           8          9           9        10           1\n",
      "38  rock_f_1_10.csv           8          9           9        10           1\n",
      "39  rock_g_1_10.csv           8          9           9        10           1\n",
      "40  rock_h_1_10.csv           8          9           9        10           1\n",
      "41  rock_i_1_10.csv           8          9           9        10           1\n",
      "42  rock_j_1_10.csv           8          9           9        10           1\n",
      "43   ssw_a_1_11.csv          10         11          10        11           1\n",
      "44    ssw_a_1_5.csv           4          5           4         5           1\n",
      "45   ssw_b_1_11.csv          10         11          10        11           1\n",
      "46    ssw_b_1_5.csv           4          5           4         5           1\n",
      "47   ssw_c_1_11.csv          10         11          10        11           1\n",
      "48    ssw_c_1_5.csv           4          5           4         5           1\n",
      "49   ssw_d_1_11.csv          10         11          10        11           1\n",
      "50    ssw_d_1_5.csv           4          5           4         5           1\n",
      "51   ssw_e_1_11.csv          10         11          10        11           1\n",
      "52    ssw_e_1_5.csv           4          5           4         5           1\n",
      "53   ssw_f_1_11.csv          10         11          10        11           1\n",
      "54    ssw_f_1_5.csv           4          5           4         5           1\n",
      "55   ssw_g_1_11.csv          10         11          10        11           1\n",
      "56    ssw_g_1_5.csv           4          5           4         5           1\n",
      "57   ssw_h_1_11.csv          10         11          10        11           1\n",
      "58    ssw_h_1_5.csv           4          5           4         5           1\n",
      "59   ssw_i_1_11.csv          10         11          10        11           1\n",
      "60    ssw_i_1_5.csv           4          5           4         5           1\n",
      "61   ssw_j_1_11.csv          10         11          10        11           1\n",
      "62    ssw_j_1_5.csv           4          5           4         5           1\n",
      "\n",
      "[63 rows x 6 columns]\n"
     ]
    }
   ],
   "source": [
    "def run(frames, frames_names,  floor_height_meters=3.55, heights=None, plot=plot_classifications):\n",
    "    preds = []\n",
    "    flr_heights = []\n",
    "    for i, dfa in enumerate(frames):\n",
    "        dfa = frames[i]\n",
    "        test_name = frames_names[i]\n",
    "        if heights is not None:\n",
    "            test_start = test_name.split('_')[0]\n",
    "            floor_height_meters = heights[test_start]\n",
    "        \n",
    "        # detect peaks\n",
    "        # peaks_detected_by_classifier = find_io_intervals_cosine(dfa, min_similarity=0.7) #0.1\n",
    "        peaks_detected_by_classifier = find_io_intervals(dfa, min_similarity=0.4) #0.1\n",
    "\n",
    "\n",
    "        # find last point a transition happened\n",
    "        last_transition_dp, last_transition_index = get_last_transition_dp(dfa, peaks_detected_by_classifier)\n",
    "\n",
    "        # last dp of user loc\n",
    "        last_dp = dfa.iloc[[-1]]\n",
    "\n",
    "        # find point where the optimal transition happened\n",
    "        # this is the lowest point around a transition window\n",
    "        optimal_trans_dp = find_optimal_transition_point(dfa, last_transition_index)\n",
    "\n",
    "        # make floor pred\n",
    "        current_floor, total_meter_change, predicted_floor_delta = predict_current_floor(optimal_trans_dp, last_dp, floor_height_meters=floor_height_meters)\n",
    "\n",
    "        # determine if indoors or not\n",
    "        io_status = get_io_status(dfa, last_transition_index)\n",
    "\n",
    "        # print real floor info\n",
    "        floor_delta, real_floor_start, real_floor_end = ground_truth_floor(test_name)\n",
    "        flr_heights.append(total_meter_change / floor_delta)\n",
    "        \n",
    "        preds.append({'pred_delta': predicted_floor_delta, 'predicted': current_floor, 'real_delta': floor_delta, 'name': test_name, 'test_start': real_floor_start, 'test_end': real_floor_end})\n",
    "\n",
    "        # plot\n",
    "        dataset_name = test_name.split('.')[0]\n",
    "        if plot:\n",
    "            plot_classification(dfa, peaks_detected_by_classifier, optimal_trans_dp.index, dataset_name)\n",
    "            plot_baro(dfa, dataset_name)\n",
    "        \n",
    "    #print(np.mean(flr_heights))\n",
    "    df = pd.DataFrame(preds)\n",
    "    df.to_csv('/Users/waf/Desktop/predictions.csv')\n",
    "    return df, flr_heights\n",
    "    \n",
    "focus_exp_name = ''\n",
    "frames, frames_names = load_data(focus_exp_name)                      \n",
    "print('num experiments: ', len(frames))\n",
    "\n",
    "if use_building_based_m_val:\n",
    "    results, flr_heights = run(frames,frames_names, heights={'gsb': 3.8, 'mudd': 3.4, 'noco': 4.2, 'ssw': 3.9, 'rock': 3.8})\n",
    "else:\n",
    "    results, flr_heights = run(frames,frames_names, 4.02)\n",
    "print(results)"
   ]
  },
  {
   "cell_type": "code",
   "execution_count": 474,
   "metadata": {
    "collapsed": false,
    "deletable": true,
    "editable": true
   },
   "outputs": [
    {
     "data": {
      "text/plain": [
       "<matplotlib.figure.Figure at 0x12331d1d0>"
      ]
     },
     "metadata": {},
     "output_type": "display_data"
    },
    {
     "data": {
      "image/png": "[encoded data removed]",
      "text/plain": [
       "<matplotlib.figure.Figure at 0x12331d2e8>"
      ]
     },
     "metadata": {},
     "output_type": "display_data"
    }
   ],
   "source": [
    "results['errors'] = abs(results.pred_delta) - abs(results.real_delta)\n",
    "x = results.errors.values\n",
    "\n",
    "# predicted in out\n",
    "plt.figure(figsize=(6, 4))\n",
    "fig, ax = plt.subplots() \n",
    "plt.ylabel('Frequency')\n",
    "plt.xlabel('Floor Error')\n",
    "plt.hist(x, bins=range(-1, 5), normed=True, rwidth=0.5)\n",
    "savefig('./images/floor_err.png', bbox_inches='tight')\n",
    "plt.show()"
   ]
  },
  {
   "cell_type": "code",
   "execution_count": 475,
   "metadata": {
    "collapsed": false,
    "deletable": true,
    "editable": true
   },
   "outputs": [
    {
     "name": "stdout",
     "output_type": "stream",
     "text": [
      "[ 2.4   2.66  2.92  3.18  3.44  3.7   3.96  4.22  4.48  4.74  5.  ]\n",
      "avg acc RF:  0.959\n",
      "avg acc SVM:  0.947\n",
      "avg acc LG:  0.568\n"
     ]
    },
    {
     "name": "stderr",
     "output_type": "stream",
     "text": [
      "/Users/waf/anaconda/envs/analysis/lib/python3.4/site-packages/sklearn/utils/deprecation.py:70: DeprecationWarning: Function log_multivariate_normal_density is deprecated; The function log_multivariate_normal_density is deprecated in 0.18 and will be removed in 0.20.\n",
      "  warnings.warn(msg, category=DeprecationWarning)\n",
      "/Users/waf/anaconda/envs/analysis/lib/python3.4/site-packages/sklearn/utils/deprecation.py:70: DeprecationWarning: Function log_multivariate_normal_density is deprecated; The function log_multivariate_normal_density is deprecated in 0.18 and will be removed in 0.20.\n",
      "  warnings.warn(msg, category=DeprecationWarning)\n",
      "/Users/waf/anaconda/envs/analysis/lib/python3.4/site-packages/sklearn/utils/deprecation.py:70: DeprecationWarning: Function log_multivariate_normal_density is deprecated; The function log_multivariate_normal_density is deprecated in 0.18 and will be removed in 0.20.\n",
      "  warnings.warn(msg, category=DeprecationWarning)\n",
      "/Users/waf/anaconda/envs/analysis/lib/python3.4/site-packages/sklearn/utils/deprecation.py:70: DeprecationWarning: Function log_multivariate_normal_density is deprecated; The function log_multivariate_normal_density is deprecated in 0.18 and will be removed in 0.20.\n",
      "  warnings.warn(msg, category=DeprecationWarning)\n",
      "/Users/waf/anaconda/envs/analysis/lib/python3.4/site-packages/sklearn/utils/deprecation.py:70: DeprecationWarning: Function log_multivariate_normal_density is deprecated; The function log_multivariate_normal_density is deprecated in 0.18 and will be removed in 0.20.\n",
      "  warnings.warn(msg, category=DeprecationWarning)\n",
      "/Users/waf/anaconda/envs/analysis/lib/python3.4/site-packages/sklearn/utils/deprecation.py:70: DeprecationWarning: Function log_multivariate_normal_density is deprecated; The function log_multivariate_normal_density is deprecated in 0.18 and will be removed in 0.20.\n",
      "  warnings.warn(msg, category=DeprecationWarning)\n",
      "/Users/waf/anaconda/envs/analysis/lib/python3.4/site-packages/sklearn/utils/deprecation.py:70: DeprecationWarning: Function log_multivariate_normal_density is deprecated; The function log_multivariate_normal_density is deprecated in 0.18 and will be removed in 0.20.\n",
      "  warnings.warn(msg, category=DeprecationWarning)\n",
      "/Users/waf/anaconda/envs/analysis/lib/python3.4/site-packages/sklearn/utils/deprecation.py:70: DeprecationWarning: Function log_multivariate_normal_density is deprecated; The function log_multivariate_normal_density is deprecated in 0.18 and will be removed in 0.20.\n",
      "  warnings.warn(msg, category=DeprecationWarning)\n",
      "/Users/waf/anaconda/envs/analysis/lib/python3.4/site-packages/sklearn/utils/deprecation.py:70: DeprecationWarning: Function log_multivariate_normal_density is deprecated; The function log_multivariate_normal_density is deprecated in 0.18 and will be removed in 0.20.\n",
      "  warnings.warn(msg, category=DeprecationWarning)\n",
      "/Users/waf/anaconda/envs/analysis/lib/python3.4/site-packages/sklearn/utils/deprecation.py:70: DeprecationWarning: Function log_multivariate_normal_density is deprecated; The function log_multivariate_normal_density is deprecated in 0.18 and will be removed in 0.20.\n",
      "  warnings.warn(msg, category=DeprecationWarning)\n"
     ]
    },
    {
     "name": "stdout",
     "output_type": "stream",
     "text": [
      "avg acc HMM:  0.635\n",
      "avg acc NN:  0.943\n",
      "avg acc NN:  0.943\n",
      "['mudd', 'a', '4', '11.csv']\n",
      "['mudd', 'b', '4', '11.csv']\n",
      "['mudd', 'c', '4', '11.csv']\n",
      "['mudd', 'd', '4', '11.csv']\n",
      "['mudd', 'e', '4', '11.csv']\n",
      "['mudd', 'f', '4', '11.csv']\n",
      "['mudd', 'g', '4', '11.csv']\n",
      "['mudd', 'h', '4', '11.csv']\n",
      "['mudd', 'i', '4', '11.csv']\n",
      "['mudd', 'j', '4', '11.csv']\n",
      "['mudd', 'a', '4', '11.csv']\n",
      "['mudd', 'b', '4', '11.csv']\n",
      "['mudd', 'c', '4', '11.csv']\n",
      "['mudd', 'd', '4', '11.csv']\n",
      "['mudd', 'e', '4', '11.csv']\n",
      "['mudd', 'f', '4', '11.csv']\n",
      "['mudd', 'g', '4', '11.csv']\n",
      "['mudd', 'h', '4', '11.csv']\n",
      "['mudd', 'i', '4', '11.csv']\n",
      "['mudd', 'j', '4', '11.csv']\n",
      "['mudd', 'a', '4', '11.csv']\n",
      "['mudd', 'b', '4', '11.csv']\n",
      "['mudd', 'c', '4', '11.csv']\n",
      "['mudd', 'd', '4', '11.csv']\n",
      "['mudd', 'e', '4', '11.csv']\n",
      "['mudd', 'f', '4', '11.csv']\n",
      "['mudd', 'g', '4', '11.csv']\n",
      "['mudd', 'h', '4', '11.csv']\n",
      "['mudd', 'i', '4', '11.csv']\n",
      "['mudd', 'j', '4', '11.csv']\n",
      "['mudd', 'a', '4', '11.csv']\n",
      "['mudd', 'b', '4', '11.csv']\n",
      "['mudd', 'c', '4', '11.csv']\n",
      "['mudd', 'd', '4', '11.csv']\n",
      "['mudd', 'e', '4', '11.csv']\n",
      "['mudd', 'f', '4', '11.csv']\n",
      "['mudd', 'g', '4', '11.csv']\n",
      "['mudd', 'h', '4', '11.csv']\n",
      "['mudd', 'i', '4', '11.csv']\n",
      "['mudd', 'j', '4', '11.csv']\n",
      "['mudd', 'a', '4', '11.csv']\n",
      "['mudd', 'b', '4', '11.csv']\n",
      "['mudd', 'c', '4', '11.csv']\n",
      "['mudd', 'd', '4', '11.csv']\n",
      "['mudd', 'e', '4', '11.csv']\n",
      "['mudd', 'f', '4', '11.csv']\n",
      "['mudd', 'g', '4', '11.csv']\n",
      "['mudd', 'h', '4', '11.csv']\n",
      "['mudd', 'i', '4', '11.csv']\n",
      "['mudd', 'j', '4', '11.csv']\n",
      "['mudd', 'a', '4', '11.csv']\n",
      "['mudd', 'b', '4', '11.csv']\n",
      "['mudd', 'c', '4', '11.csv']\n",
      "['mudd', 'd', '4', '11.csv']\n",
      "['mudd', 'e', '4', '11.csv']\n",
      "['mudd', 'f', '4', '11.csv']\n",
      "['mudd', 'g', '4', '11.csv']\n",
      "['mudd', 'h', '4', '11.csv']\n",
      "['mudd', 'i', '4', '11.csv']\n",
      "['mudd', 'j', '4', '11.csv']\n",
      "['mudd', 'a', '4', '11.csv']\n",
      "['mudd', 'b', '4', '11.csv']\n",
      "['mudd', 'c', '4', '11.csv']\n",
      "['mudd', 'd', '4', '11.csv']\n",
      "['mudd', 'e', '4', '11.csv']\n",
      "['mudd', 'f', '4', '11.csv']\n",
      "['mudd', 'g', '4', '11.csv']\n",
      "['mudd', 'h', '4', '11.csv']\n",
      "['mudd', 'i', '4', '11.csv']\n",
      "['mudd', 'j', '4', '11.csv']\n",
      "['mudd', 'a', '4', '11.csv']\n",
      "['mudd', 'b', '4', '11.csv']\n",
      "['mudd', 'c', '4', '11.csv']\n",
      "['mudd', 'd', '4', '11.csv']\n",
      "['mudd', 'e', '4', '11.csv']\n",
      "['mudd', 'f', '4', '11.csv']\n",
      "['mudd', 'g', '4', '11.csv']\n",
      "['mudd', 'h', '4', '11.csv']\n",
      "['mudd', 'i', '4', '11.csv']\n",
      "['mudd', 'j', '4', '11.csv']\n",
      "['mudd', 'a', '4', '11.csv']\n",
      "['mudd', 'b', '4', '11.csv']\n",
      "['mudd', 'c', '4', '11.csv']\n",
      "['mudd', 'd', '4', '11.csv']\n",
      "['mudd', 'e', '4', '11.csv']\n",
      "['mudd', 'f', '4', '11.csv']\n",
      "['mudd', 'g', '4', '11.csv']\n",
      "['mudd', 'h', '4', '11.csv']\n",
      "['mudd', 'i', '4', '11.csv']\n",
      "['mudd', 'j', '4', '11.csv']\n",
      "['mudd', 'a', '4', '11.csv']\n",
      "['mudd', 'b', '4', '11.csv']\n",
      "['mudd', 'c', '4', '11.csv']\n",
      "['mudd', 'd', '4', '11.csv']\n",
      "['mudd', 'e', '4', '11.csv']\n",
      "['mudd', 'f', '4', '11.csv']\n",
      "['mudd', 'g', '4', '11.csv']\n",
      "['mudd', 'h', '4', '11.csv']\n",
      "['mudd', 'i', '4', '11.csv']\n",
      "['mudd', 'j', '4', '11.csv']\n",
      "['mudd', 'a', '4', '11.csv']\n",
      "['mudd', 'b', '4', '11.csv']\n",
      "['mudd', 'c', '4', '11.csv']\n",
      "['mudd', 'd', '4', '11.csv']\n",
      "['mudd', 'e', '4', '11.csv']\n",
      "['mudd', 'f', '4', '11.csv']\n",
      "['mudd', 'g', '4', '11.csv']\n",
      "['mudd', 'h', '4', '11.csv']\n",
      "['mudd', 'i', '4', '11.csv']\n",
      "['mudd', 'j', '4', '11.csv']\n",
      "avg acc RF:  0.864\n",
      "avg acc SVM:  0.838\n",
      "avg acc LG:  0.664\n",
      "avg acc HMM:  0.601\n"
     ]
    },
    {
     "name": "stderr",
     "output_type": "stream",
     "text": [
      "/Users/waf/anaconda/envs/analysis/lib/python3.4/site-packages/sklearn/utils/deprecation.py:70: DeprecationWarning: Function log_multivariate_normal_density is deprecated; The function log_multivariate_normal_density is deprecated in 0.18 and will be removed in 0.20.\n",
      "  warnings.warn(msg, category=DeprecationWarning)\n",
      "/Users/waf/anaconda/envs/analysis/lib/python3.4/site-packages/sklearn/utils/deprecation.py:70: DeprecationWarning: Function log_multivariate_normal_density is deprecated; The function log_multivariate_normal_density is deprecated in 0.18 and will be removed in 0.20.\n",
      "  warnings.warn(msg, category=DeprecationWarning)\n",
      "/Users/waf/anaconda/envs/analysis/lib/python3.4/site-packages/sklearn/utils/deprecation.py:70: DeprecationWarning: Function log_multivariate_normal_density is deprecated; The function log_multivariate_normal_density is deprecated in 0.18 and will be removed in 0.20.\n",
      "  warnings.warn(msg, category=DeprecationWarning)\n",
      "/Users/waf/anaconda/envs/analysis/lib/python3.4/site-packages/sklearn/utils/deprecation.py:70: DeprecationWarning: Function log_multivariate_normal_density is deprecated; The function log_multivariate_normal_density is deprecated in 0.18 and will be removed in 0.20.\n",
      "  warnings.warn(msg, category=DeprecationWarning)\n",
      "/Users/waf/anaconda/envs/analysis/lib/python3.4/site-packages/sklearn/utils/deprecation.py:70: DeprecationWarning: Function log_multivariate_normal_density is deprecated; The function log_multivariate_normal_density is deprecated in 0.18 and will be removed in 0.20.\n",
      "  warnings.warn(msg, category=DeprecationWarning)\n",
      "/Users/waf/anaconda/envs/analysis/lib/python3.4/site-packages/sklearn/utils/deprecation.py:70: DeprecationWarning: Function log_multivariate_normal_density is deprecated; The function log_multivariate_normal_density is deprecated in 0.18 and will be removed in 0.20.\n",
      "  warnings.warn(msg, category=DeprecationWarning)\n",
      "/Users/waf/anaconda/envs/analysis/lib/python3.4/site-packages/sklearn/utils/deprecation.py:70: DeprecationWarning: Function log_multivariate_normal_density is deprecated; The function log_multivariate_normal_density is deprecated in 0.18 and will be removed in 0.20.\n",
      "  warnings.warn(msg, category=DeprecationWarning)\n",
      "/Users/waf/anaconda/envs/analysis/lib/python3.4/site-packages/sklearn/utils/deprecation.py:70: DeprecationWarning: Function log_multivariate_normal_density is deprecated; The function log_multivariate_normal_density is deprecated in 0.18 and will be removed in 0.20.\n",
      "  warnings.warn(msg, category=DeprecationWarning)\n",
      "/Users/waf/anaconda/envs/analysis/lib/python3.4/site-packages/sklearn/utils/deprecation.py:70: DeprecationWarning: Function log_multivariate_normal_density is deprecated; The function log_multivariate_normal_density is deprecated in 0.18 and will be removed in 0.20.\n",
      "  warnings.warn(msg, category=DeprecationWarning)\n",
      "/Users/waf/anaconda/envs/analysis/lib/python3.4/site-packages/sklearn/utils/deprecation.py:70: DeprecationWarning: Function log_multivariate_normal_density is deprecated; The function log_multivariate_normal_density is deprecated in 0.18 and will be removed in 0.20.\n",
      "  warnings.warn(msg, category=DeprecationWarning)\n",
      "/Users/waf/anaconda/envs/analysis/lib/python3.4/site-packages/sklearn/utils/deprecation.py:70: DeprecationWarning: Function log_multivariate_normal_density is deprecated; The function log_multivariate_normal_density is deprecated in 0.18 and will be removed in 0.20.\n",
      "  warnings.warn(msg, category=DeprecationWarning)\n",
      "/Users/waf/anaconda/envs/analysis/lib/python3.4/site-packages/sklearn/utils/deprecation.py:70: DeprecationWarning: Function log_multivariate_normal_density is deprecated; The function log_multivariate_normal_density is deprecated in 0.18 and will be removed in 0.20.\n",
      "  warnings.warn(msg, category=DeprecationWarning)\n",
      "/Users/waf/anaconda/envs/analysis/lib/python3.4/site-packages/sklearn/utils/deprecation.py:70: DeprecationWarning: Function log_multivariate_normal_density is deprecated; The function log_multivariate_normal_density is deprecated in 0.18 and will be removed in 0.20.\n",
      "  warnings.warn(msg, category=DeprecationWarning)\n",
      "/Users/waf/anaconda/envs/analysis/lib/python3.4/site-packages/sklearn/utils/deprecation.py:70: DeprecationWarning: Function log_multivariate_normal_density is deprecated; The function log_multivariate_normal_density is deprecated in 0.18 and will be removed in 0.20.\n",
      "  warnings.warn(msg, category=DeprecationWarning)\n"
     ]
    },
    {
     "name": "stdout",
     "output_type": "stream",
     "text": [
      "avg acc NN:  0.877\n",
      "avg acc NN:  0.878\n",
      "['gsb', 'a', '1', '3.csv']\n",
      "['gsb', 'b', '1', '8.csv']\n",
      "['gsb', 'c', '1', '3.csv']\n",
      "['gsb', 'e', '1', '8.csv']\n",
      "['gsb', 'f', '1', '8.csv']\n",
      "['gsb', 'g', '1', '8.csv']\n",
      "['gsb', 'h', '1', '3.csv']\n",
      "['gsb', 'i', '1', '3.csv']\n",
      "['gsb', 'j', '1', '3.csv']\n",
      "['gsb', 'k', '1', '3.csv']\n",
      "['gsb', 'l', '1', '3.csv']\n",
      "['gsb', 'm', '1', '3.csv']\n",
      "['gsb', 'n', '1', '3.csv']\n",
      "['gsb', 'o', '1', '3.csv']\n",
      "['gsb', 'a', '1', '3.csv']\n",
      "['gsb', 'b', '1', '8.csv']\n",
      "['gsb', 'c', '1', '3.csv']\n",
      "['gsb', 'e', '1', '8.csv']\n",
      "['gsb', 'f', '1', '8.csv']\n",
      "['gsb', 'g', '1', '8.csv']\n",
      "['gsb', 'h', '1', '3.csv']\n",
      "['gsb', 'i', '1', '3.csv']\n",
      "['gsb', 'j', '1', '3.csv']\n",
      "['gsb', 'k', '1', '3.csv']\n",
      "['gsb', 'l', '1', '3.csv']\n",
      "['gsb', 'm', '1', '3.csv']\n",
      "['gsb', 'n', '1', '3.csv']\n",
      "['gsb', 'o', '1', '3.csv']\n",
      "['gsb', 'a', '1', '3.csv']\n",
      "['gsb', 'b', '1', '8.csv']\n",
      "['gsb', 'c', '1', '3.csv']\n",
      "['gsb', 'e', '1', '8.csv']\n",
      "['gsb', 'f', '1', '8.csv']\n",
      "['gsb', 'g', '1', '8.csv']\n",
      "['gsb', 'h', '1', '3.csv']\n",
      "['gsb', 'i', '1', '3.csv']\n",
      "['gsb', 'j', '1', '3.csv']\n",
      "['gsb', 'k', '1', '3.csv']\n",
      "['gsb', 'l', '1', '3.csv']\n",
      "['gsb', 'm', '1', '3.csv']\n",
      "['gsb', 'n', '1', '3.csv']\n",
      "['gsb', 'o', '1', '3.csv']\n",
      "['gsb', 'a', '1', '3.csv']\n",
      "['gsb', 'b', '1', '8.csv']\n",
      "['gsb', 'c', '1', '3.csv']\n",
      "['gsb', 'e', '1', '8.csv']\n",
      "['gsb', 'f', '1', '8.csv']\n",
      "['gsb', 'g', '1', '8.csv']\n",
      "['gsb', 'h', '1', '3.csv']\n",
      "['gsb', 'i', '1', '3.csv']\n",
      "['gsb', 'j', '1', '3.csv']\n",
      "['gsb', 'k', '1', '3.csv']\n",
      "['gsb', 'l', '1', '3.csv']\n",
      "['gsb', 'm', '1', '3.csv']\n",
      "['gsb', 'n', '1', '3.csv']\n",
      "['gsb', 'o', '1', '3.csv']\n",
      "['gsb', 'a', '1', '3.csv']\n",
      "['gsb', 'b', '1', '8.csv']\n",
      "['gsb', 'c', '1', '3.csv']\n",
      "['gsb', 'e', '1', '8.csv']\n",
      "['gsb', 'f', '1', '8.csv']\n",
      "['gsb', 'g', '1', '8.csv']\n",
      "['gsb', 'h', '1', '3.csv']\n",
      "['gsb', 'i', '1', '3.csv']\n",
      "['gsb', 'j', '1', '3.csv']\n",
      "['gsb', 'k', '1', '3.csv']\n",
      "['gsb', 'l', '1', '3.csv']\n",
      "['gsb', 'm', '1', '3.csv']\n",
      "['gsb', 'n', '1', '3.csv']\n",
      "['gsb', 'o', '1', '3.csv']\n",
      "['gsb', 'a', '1', '3.csv']\n",
      "['gsb', 'b', '1', '8.csv']\n",
      "['gsb', 'c', '1', '3.csv']\n",
      "['gsb', 'e', '1', '8.csv']\n",
      "['gsb', 'f', '1', '8.csv']\n",
      "['gsb', 'g', '1', '8.csv']\n",
      "['gsb', 'h', '1', '3.csv']\n",
      "['gsb', 'i', '1', '3.csv']\n",
      "['gsb', 'j', '1', '3.csv']\n",
      "['gsb', 'k', '1', '3.csv']\n",
      "['gsb', 'l', '1', '3.csv']\n",
      "['gsb', 'm', '1', '3.csv']\n",
      "['gsb', 'n', '1', '3.csv']\n",
      "['gsb', 'o', '1', '3.csv']\n",
      "['gsb', 'a', '1', '3.csv']\n",
      "['gsb', 'b', '1', '8.csv']\n",
      "['gsb', 'c', '1', '3.csv']\n",
      "['gsb', 'e', '1', '8.csv']\n",
      "['gsb', 'f', '1', '8.csv']\n",
      "['gsb', 'g', '1', '8.csv']\n",
      "['gsb', 'h', '1', '3.csv']\n",
      "['gsb', 'i', '1', '3.csv']\n",
      "['gsb', 'j', '1', '3.csv']\n",
      "['gsb', 'k', '1', '3.csv']\n",
      "['gsb', 'l', '1', '3.csv']\n",
      "['gsb', 'm', '1', '3.csv']\n",
      "['gsb', 'n', '1', '3.csv']\n",
      "['gsb', 'o', '1', '3.csv']\n",
      "['gsb', 'a', '1', '3.csv']\n",
      "['gsb', 'b', '1', '8.csv']\n",
      "['gsb', 'c', '1', '3.csv']\n",
      "['gsb', 'e', '1', '8.csv']\n",
      "['gsb', 'f', '1', '8.csv']\n",
      "['gsb', 'g', '1', '8.csv']\n",
      "['gsb', 'h', '1', '3.csv']\n",
      "['gsb', 'i', '1', '3.csv']\n",
      "['gsb', 'j', '1', '3.csv']\n",
      "['gsb', 'k', '1', '3.csv']\n",
      "['gsb', 'l', '1', '3.csv']\n",
      "['gsb', 'm', '1', '3.csv']\n",
      "['gsb', 'n', '1', '3.csv']\n",
      "['gsb', 'o', '1', '3.csv']\n",
      "['gsb', 'a', '1', '3.csv']\n",
      "['gsb', 'b', '1', '8.csv']\n",
      "['gsb', 'c', '1', '3.csv']\n",
      "['gsb', 'e', '1', '8.csv']\n",
      "['gsb', 'f', '1', '8.csv']\n",
      "['gsb', 'g', '1', '8.csv']\n",
      "['gsb', 'h', '1', '3.csv']\n",
      "['gsb', 'i', '1', '3.csv']\n",
      "['gsb', 'j', '1', '3.csv']\n",
      "['gsb', 'k', '1', '3.csv']\n",
      "['gsb', 'l', '1', '3.csv']\n",
      "['gsb', 'm', '1', '3.csv']\n",
      "['gsb', 'n', '1', '3.csv']\n",
      "['gsb', 'o', '1', '3.csv']\n",
      "['gsb', 'a', '1', '3.csv']\n",
      "['gsb', 'b', '1', '8.csv']\n",
      "['gsb', 'c', '1', '3.csv']\n",
      "['gsb', 'e', '1', '8.csv']\n",
      "['gsb', 'f', '1', '8.csv']\n",
      "['gsb', 'g', '1', '8.csv']\n",
      "['gsb', 'h', '1', '3.csv']\n",
      "['gsb', 'i', '1', '3.csv']\n",
      "['gsb', 'j', '1', '3.csv']\n",
      "['gsb', 'k', '1', '3.csv']\n",
      "['gsb', 'l', '1', '3.csv']\n",
      "['gsb', 'm', '1', '3.csv']\n",
      "['gsb', 'n', '1', '3.csv']\n",
      "['gsb', 'o', '1', '3.csv']\n",
      "['gsb', 'a', '1', '3.csv']\n",
      "['gsb', 'b', '1', '8.csv']\n",
      "['gsb', 'c', '1', '3.csv']\n",
      "['gsb', 'e', '1', '8.csv']\n",
      "['gsb', 'f', '1', '8.csv']\n",
      "['gsb', 'g', '1', '8.csv']\n",
      "['gsb', 'h', '1', '3.csv']\n",
      "['gsb', 'i', '1', '3.csv']\n",
      "['gsb', 'j', '1', '3.csv']\n",
      "['gsb', 'k', '1', '3.csv']\n",
      "['gsb', 'l', '1', '3.csv']\n",
      "['gsb', 'm', '1', '3.csv']\n",
      "['gsb', 'n', '1', '3.csv']\n",
      "['gsb', 'o', '1', '3.csv']\n",
      "avg acc RF:  0.868\n",
      "avg acc SVM:  0.939\n",
      "avg acc LG:  0.698\n",
      "avg acc HMM:  0.674\n"
     ]
    },
    {
     "name": "stderr",
     "output_type": "stream",
     "text": [
      "/Users/waf/anaconda/envs/analysis/lib/python3.4/site-packages/sklearn/utils/deprecation.py:70: DeprecationWarning: Function log_multivariate_normal_density is deprecated; The function log_multivariate_normal_density is deprecated in 0.18 and will be removed in 0.20.\n",
      "  warnings.warn(msg, category=DeprecationWarning)\n",
      "/Users/waf/anaconda/envs/analysis/lib/python3.4/site-packages/sklearn/utils/deprecation.py:70: DeprecationWarning: Function log_multivariate_normal_density is deprecated; The function log_multivariate_normal_density is deprecated in 0.18 and will be removed in 0.20.\n",
      "  warnings.warn(msg, category=DeprecationWarning)\n",
      "/Users/waf/anaconda/envs/analysis/lib/python3.4/site-packages/sklearn/utils/deprecation.py:70: DeprecationWarning: Function log_multivariate_normal_density is deprecated; The function log_multivariate_normal_density is deprecated in 0.18 and will be removed in 0.20.\n",
      "  warnings.warn(msg, category=DeprecationWarning)\n",
      "/Users/waf/anaconda/envs/analysis/lib/python3.4/site-packages/sklearn/utils/deprecation.py:70: DeprecationWarning: Function log_multivariate_normal_density is deprecated; The function log_multivariate_normal_density is deprecated in 0.18 and will be removed in 0.20.\n",
      "  warnings.warn(msg, category=DeprecationWarning)\n",
      "/Users/waf/anaconda/envs/analysis/lib/python3.4/site-packages/sklearn/utils/deprecation.py:70: DeprecationWarning: Function log_multivariate_normal_density is deprecated; The function log_multivariate_normal_density is deprecated in 0.18 and will be removed in 0.20.\n",
      "  warnings.warn(msg, category=DeprecationWarning)\n",
      "/Users/waf/anaconda/envs/analysis/lib/python3.4/site-packages/sklearn/utils/deprecation.py:70: DeprecationWarning: Function log_multivariate_normal_density is deprecated; The function log_multivariate_normal_density is deprecated in 0.18 and will be removed in 0.20.\n",
      "  warnings.warn(msg, category=DeprecationWarning)\n",
      "/Users/waf/anaconda/envs/analysis/lib/python3.4/site-packages/sklearn/utils/deprecation.py:70: DeprecationWarning: Function log_multivariate_normal_density is deprecated; The function log_multivariate_normal_density is deprecated in 0.18 and will be removed in 0.20.\n",
      "  warnings.warn(msg, category=DeprecationWarning)\n",
      "/Users/waf/anaconda/envs/analysis/lib/python3.4/site-packages/sklearn/utils/deprecation.py:70: DeprecationWarning: Function log_multivariate_normal_density is deprecated; The function log_multivariate_normal_density is deprecated in 0.18 and will be removed in 0.20.\n",
      "  warnings.warn(msg, category=DeprecationWarning)\n",
      "/Users/waf/anaconda/envs/analysis/lib/python3.4/site-packages/sklearn/utils/deprecation.py:70: DeprecationWarning: Function log_multivariate_normal_density is deprecated; The function log_multivariate_normal_density is deprecated in 0.18 and will be removed in 0.20.\n",
      "  warnings.warn(msg, category=DeprecationWarning)\n",
      "/Users/waf/anaconda/envs/analysis/lib/python3.4/site-packages/sklearn/utils/deprecation.py:70: DeprecationWarning: Function log_multivariate_normal_density is deprecated; The function log_multivariate_normal_density is deprecated in 0.18 and will be removed in 0.20.\n",
      "  warnings.warn(msg, category=DeprecationWarning)\n"
     ]
    },
    {
     "name": "stdout",
     "output_type": "stream",
     "text": [
      "avg acc NN:  0.934\n",
      "avg acc NN:  0.934\n",
      "['noco', 'a', '1', '10.csv']\n",
      "['noco', 'b', '1', '10.csv']\n",
      "['noco', 'c', '1', '10.csv']\n",
      "['noco', 'd', '1', '10.csv']\n",
      "['noco', 'e', '1', '10.csv']\n",
      "['noco', 'f', '1', '10.csv']\n",
      "['noco', 'g', '1', '10.csv']\n",
      "['noco', 'h', '1', '10.csv']\n",
      "['noco', 'i', '1', '10.csv']\n",
      "['noco', 'j', '1', '10.csv']\n",
      "['noco', 'a', '1', '10.csv']\n",
      "['noco', 'b', '1', '10.csv']\n",
      "['noco', 'c', '1', '10.csv']\n",
      "['noco', 'd', '1', '10.csv']\n",
      "['noco', 'e', '1', '10.csv']\n",
      "['noco', 'f', '1', '10.csv']\n",
      "['noco', 'g', '1', '10.csv']\n",
      "['noco', 'h', '1', '10.csv']\n",
      "['noco', 'i', '1', '10.csv']\n",
      "['noco', 'j', '1', '10.csv']\n",
      "['noco', 'a', '1', '10.csv']\n",
      "['noco', 'b', '1', '10.csv']\n",
      "['noco', 'c', '1', '10.csv']\n",
      "['noco', 'd', '1', '10.csv']\n",
      "['noco', 'e', '1', '10.csv']\n",
      "['noco', 'f', '1', '10.csv']\n",
      "['noco', 'g', '1', '10.csv']\n",
      "['noco', 'h', '1', '10.csv']\n",
      "['noco', 'i', '1', '10.csv']\n",
      "['noco', 'j', '1', '10.csv']\n",
      "['noco', 'a', '1', '10.csv']\n",
      "['noco', 'b', '1', '10.csv']\n",
      "['noco', 'c', '1', '10.csv']\n",
      "['noco', 'd', '1', '10.csv']\n",
      "['noco', 'e', '1', '10.csv']\n",
      "['noco', 'f', '1', '10.csv']\n",
      "['noco', 'g', '1', '10.csv']\n",
      "['noco', 'h', '1', '10.csv']\n",
      "['noco', 'i', '1', '10.csv']\n",
      "['noco', 'j', '1', '10.csv']\n",
      "['noco', 'a', '1', '10.csv']\n",
      "['noco', 'b', '1', '10.csv']\n",
      "['noco', 'c', '1', '10.csv']\n",
      "['noco', 'd', '1', '10.csv']\n",
      "['noco', 'e', '1', '10.csv']\n",
      "['noco', 'f', '1', '10.csv']\n",
      "['noco', 'g', '1', '10.csv']\n",
      "['noco', 'h', '1', '10.csv']\n",
      "['noco', 'i', '1', '10.csv']\n",
      "['noco', 'j', '1', '10.csv']\n",
      "['noco', 'a', '1', '10.csv']\n",
      "['noco', 'b', '1', '10.csv']\n",
      "['noco', 'c', '1', '10.csv']\n",
      "['noco', 'd', '1', '10.csv']\n",
      "['noco', 'e', '1', '10.csv']\n",
      "['noco', 'f', '1', '10.csv']\n",
      "['noco', 'g', '1', '10.csv']\n",
      "['noco', 'h', '1', '10.csv']\n",
      "['noco', 'i', '1', '10.csv']\n",
      "['noco', 'j', '1', '10.csv']\n",
      "['noco', 'a', '1', '10.csv']\n",
      "['noco', 'b', '1', '10.csv']\n",
      "['noco', 'c', '1', '10.csv']\n",
      "['noco', 'd', '1', '10.csv']\n",
      "['noco', 'e', '1', '10.csv']\n",
      "['noco', 'f', '1', '10.csv']\n",
      "['noco', 'g', '1', '10.csv']\n",
      "['noco', 'h', '1', '10.csv']\n",
      "['noco', 'i', '1', '10.csv']\n",
      "['noco', 'j', '1', '10.csv']\n",
      "['noco', 'a', '1', '10.csv']\n",
      "['noco', 'b', '1', '10.csv']\n",
      "['noco', 'c', '1', '10.csv']\n",
      "['noco', 'd', '1', '10.csv']\n",
      "['noco', 'e', '1', '10.csv']\n",
      "['noco', 'f', '1', '10.csv']\n",
      "['noco', 'g', '1', '10.csv']\n",
      "['noco', 'h', '1', '10.csv']\n",
      "['noco', 'i', '1', '10.csv']\n",
      "['noco', 'j', '1', '10.csv']\n",
      "['noco', 'a', '1', '10.csv']\n",
      "['noco', 'b', '1', '10.csv']\n",
      "['noco', 'c', '1', '10.csv']\n",
      "['noco', 'd', '1', '10.csv']\n",
      "['noco', 'e', '1', '10.csv']\n",
      "['noco', 'f', '1', '10.csv']\n",
      "['noco', 'g', '1', '10.csv']\n",
      "['noco', 'h', '1', '10.csv']\n",
      "['noco', 'i', '1', '10.csv']\n",
      "['noco', 'j', '1', '10.csv']\n",
      "['noco', 'a', '1', '10.csv']\n",
      "['noco', 'b', '1', '10.csv']\n",
      "['noco', 'c', '1', '10.csv']\n",
      "['noco', 'd', '1', '10.csv']\n",
      "['noco', 'e', '1', '10.csv']\n",
      "['noco', 'f', '1', '10.csv']\n",
      "['noco', 'g', '1', '10.csv']\n",
      "['noco', 'h', '1', '10.csv']\n",
      "['noco', 'i', '1', '10.csv']\n",
      "['noco', 'j', '1', '10.csv']\n",
      "['noco', 'a', '1', '10.csv']\n",
      "['noco', 'b', '1', '10.csv']\n",
      "['noco', 'c', '1', '10.csv']\n",
      "['noco', 'd', '1', '10.csv']\n",
      "['noco', 'e', '1', '10.csv']\n",
      "['noco', 'f', '1', '10.csv']\n",
      "['noco', 'g', '1', '10.csv']\n",
      "['noco', 'h', '1', '10.csv']\n",
      "['noco', 'i', '1', '10.csv']\n",
      "['noco', 'j', '1', '10.csv']\n",
      "avg acc RF:  0.857\n",
      "avg acc SVM:  0.897\n",
      "avg acc LG:  0.758\n",
      "avg acc HMM:  0.632\n"
     ]
    },
    {
     "name": "stderr",
     "output_type": "stream",
     "text": [
      "/Users/waf/anaconda/envs/analysis/lib/python3.4/site-packages/sklearn/utils/deprecation.py:70: DeprecationWarning: Function log_multivariate_normal_density is deprecated; The function log_multivariate_normal_density is deprecated in 0.18 and will be removed in 0.20.\n",
      "  warnings.warn(msg, category=DeprecationWarning)\n",
      "/Users/waf/anaconda/envs/analysis/lib/python3.4/site-packages/sklearn/utils/deprecation.py:70: DeprecationWarning: Function log_multivariate_normal_density is deprecated; The function log_multivariate_normal_density is deprecated in 0.18 and will be removed in 0.20.\n",
      "  warnings.warn(msg, category=DeprecationWarning)\n",
      "/Users/waf/anaconda/envs/analysis/lib/python3.4/site-packages/sklearn/utils/deprecation.py:70: DeprecationWarning: Function log_multivariate_normal_density is deprecated; The function log_multivariate_normal_density is deprecated in 0.18 and will be removed in 0.20.\n",
      "  warnings.warn(msg, category=DeprecationWarning)\n",
      "/Users/waf/anaconda/envs/analysis/lib/python3.4/site-packages/sklearn/utils/deprecation.py:70: DeprecationWarning: Function log_multivariate_normal_density is deprecated; The function log_multivariate_normal_density is deprecated in 0.18 and will be removed in 0.20.\n",
      "  warnings.warn(msg, category=DeprecationWarning)\n",
      "/Users/waf/anaconda/envs/analysis/lib/python3.4/site-packages/sklearn/utils/deprecation.py:70: DeprecationWarning: Function log_multivariate_normal_density is deprecated; The function log_multivariate_normal_density is deprecated in 0.18 and will be removed in 0.20.\n",
      "  warnings.warn(msg, category=DeprecationWarning)\n",
      "/Users/waf/anaconda/envs/analysis/lib/python3.4/site-packages/sklearn/utils/deprecation.py:70: DeprecationWarning: Function log_multivariate_normal_density is deprecated; The function log_multivariate_normal_density is deprecated in 0.18 and will be removed in 0.20.\n",
      "  warnings.warn(msg, category=DeprecationWarning)\n",
      "/Users/waf/anaconda/envs/analysis/lib/python3.4/site-packages/sklearn/utils/deprecation.py:70: DeprecationWarning: Function log_multivariate_normal_density is deprecated; The function log_multivariate_normal_density is deprecated in 0.18 and will be removed in 0.20.\n",
      "  warnings.warn(msg, category=DeprecationWarning)\n",
      "/Users/waf/anaconda/envs/analysis/lib/python3.4/site-packages/sklearn/utils/deprecation.py:70: DeprecationWarning: Function log_multivariate_normal_density is deprecated; The function log_multivariate_normal_density is deprecated in 0.18 and will be removed in 0.20.\n",
      "  warnings.warn(msg, category=DeprecationWarning)\n",
      "/Users/waf/anaconda/envs/analysis/lib/python3.4/site-packages/sklearn/utils/deprecation.py:70: DeprecationWarning: Function log_multivariate_normal_density is deprecated; The function log_multivariate_normal_density is deprecated in 0.18 and will be removed in 0.20.\n",
      "  warnings.warn(msg, category=DeprecationWarning)\n",
      "/Users/waf/anaconda/envs/analysis/lib/python3.4/site-packages/sklearn/utils/deprecation.py:70: DeprecationWarning: Function log_multivariate_normal_density is deprecated; The function log_multivariate_normal_density is deprecated in 0.18 and will be removed in 0.20.\n",
      "  warnings.warn(msg, category=DeprecationWarning)\n",
      "/Users/waf/anaconda/envs/analysis/lib/python3.4/site-packages/sklearn/utils/deprecation.py:70: DeprecationWarning: Function log_multivariate_normal_density is deprecated; The function log_multivariate_normal_density is deprecated in 0.18 and will be removed in 0.20.\n",
      "  warnings.warn(msg, category=DeprecationWarning)\n",
      "/Users/waf/anaconda/envs/analysis/lib/python3.4/site-packages/sklearn/utils/deprecation.py:70: DeprecationWarning: Function log_multivariate_normal_density is deprecated; The function log_multivariate_normal_density is deprecated in 0.18 and will be removed in 0.20.\n",
      "  warnings.warn(msg, category=DeprecationWarning)\n",
      "/Users/waf/anaconda/envs/analysis/lib/python3.4/site-packages/sklearn/utils/deprecation.py:70: DeprecationWarning: Function log_multivariate_normal_density is deprecated; The function log_multivariate_normal_density is deprecated in 0.18 and will be removed in 0.20.\n",
      "  warnings.warn(msg, category=DeprecationWarning)\n",
      "/Users/waf/anaconda/envs/analysis/lib/python3.4/site-packages/sklearn/utils/deprecation.py:70: DeprecationWarning: Function log_multivariate_normal_density is deprecated; The function log_multivariate_normal_density is deprecated in 0.18 and will be removed in 0.20.\n",
      "  warnings.warn(msg, category=DeprecationWarning)\n",
      "/Users/waf/anaconda/envs/analysis/lib/python3.4/site-packages/sklearn/utils/deprecation.py:70: DeprecationWarning: Function log_multivariate_normal_density is deprecated; The function log_multivariate_normal_density is deprecated in 0.18 and will be removed in 0.20.\n",
      "  warnings.warn(msg, category=DeprecationWarning)\n",
      "/Users/waf/anaconda/envs/analysis/lib/python3.4/site-packages/sklearn/utils/deprecation.py:70: DeprecationWarning: Function log_multivariate_normal_density is deprecated; The function log_multivariate_normal_density is deprecated in 0.18 and will be removed in 0.20.\n",
      "  warnings.warn(msg, category=DeprecationWarning)\n",
      "/Users/waf/anaconda/envs/analysis/lib/python3.4/site-packages/sklearn/utils/deprecation.py:70: DeprecationWarning: Function log_multivariate_normal_density is deprecated; The function log_multivariate_normal_density is deprecated in 0.18 and will be removed in 0.20.\n",
      "  warnings.warn(msg, category=DeprecationWarning)\n",
      "/Users/waf/anaconda/envs/analysis/lib/python3.4/site-packages/sklearn/utils/deprecation.py:70: DeprecationWarning: Function log_multivariate_normal_density is deprecated; The function log_multivariate_normal_density is deprecated in 0.18 and will be removed in 0.20.\n",
      "  warnings.warn(msg, category=DeprecationWarning)\n",
      "/Users/waf/anaconda/envs/analysis/lib/python3.4/site-packages/sklearn/utils/deprecation.py:70: DeprecationWarning: Function log_multivariate_normal_density is deprecated; The function log_multivariate_normal_density is deprecated in 0.18 and will be removed in 0.20.\n",
      "  warnings.warn(msg, category=DeprecationWarning)\n",
      "/Users/waf/anaconda/envs/analysis/lib/python3.4/site-packages/sklearn/utils/deprecation.py:70: DeprecationWarning: Function log_multivariate_normal_density is deprecated; The function log_multivariate_normal_density is deprecated in 0.18 and will be removed in 0.20.\n",
      "  warnings.warn(msg, category=DeprecationWarning)\n"
     ]
    },
    {
     "name": "stdout",
     "output_type": "stream",
     "text": [
      "avg acc NN:  0.883\n",
      "avg acc NN:  0.884\n",
      "['ssw', 'a', '1', '11.csv']\n",
      "['ssw', 'a', '1', '5.csv']\n",
      "['ssw', 'b', '1', '11.csv']\n",
      "['ssw', 'b', '1', '5.csv']\n",
      "['ssw', 'c', '1', '11.csv']\n",
      "['ssw', 'c', '1', '5.csv']\n",
      "['ssw', 'd', '1', '11.csv']\n",
      "['ssw', 'd', '1', '5.csv']\n",
      "['ssw', 'e', '1', '11.csv']\n",
      "['ssw', 'e', '1', '5.csv']\n",
      "['ssw', 'f', '1', '11.csv']\n",
      "['ssw', 'f', '1', '5.csv']\n",
      "['ssw', 'g', '1', '11.csv']\n",
      "['ssw', 'g', '1', '5.csv']\n",
      "['ssw', 'h', '1', '11.csv']\n",
      "['ssw', 'h', '1', '5.csv']\n",
      "['ssw', 'i', '1', '11.csv']\n",
      "['ssw', 'i', '1', '5.csv']\n",
      "['ssw', 'j', '1', '11.csv']\n",
      "['ssw', 'j', '1', '5.csv']\n",
      "['ssw', 'a', '1', '11.csv']\n",
      "['ssw', 'a', '1', '5.csv']\n",
      "['ssw', 'b', '1', '11.csv']\n",
      "['ssw', 'b', '1', '5.csv']\n",
      "['ssw', 'c', '1', '11.csv']\n",
      "['ssw', 'c', '1', '5.csv']\n",
      "['ssw', 'd', '1', '11.csv']\n",
      "['ssw', 'd', '1', '5.csv']\n",
      "['ssw', 'e', '1', '11.csv']\n",
      "['ssw', 'e', '1', '5.csv']\n",
      "['ssw', 'f', '1', '11.csv']\n",
      "['ssw', 'f', '1', '5.csv']\n",
      "['ssw', 'g', '1', '11.csv']\n",
      "['ssw', 'g', '1', '5.csv']\n",
      "['ssw', 'h', '1', '11.csv']\n",
      "['ssw', 'h', '1', '5.csv']\n",
      "['ssw', 'i', '1', '11.csv']\n",
      "['ssw', 'i', '1', '5.csv']\n",
      "['ssw', 'j', '1', '11.csv']\n",
      "['ssw', 'j', '1', '5.csv']\n",
      "['ssw', 'a', '1', '11.csv']\n",
      "['ssw', 'a', '1', '5.csv']\n",
      "['ssw', 'b', '1', '11.csv']\n",
      "['ssw', 'b', '1', '5.csv']\n",
      "['ssw', 'c', '1', '11.csv']\n",
      "['ssw', 'c', '1', '5.csv']\n",
      "['ssw', 'd', '1', '11.csv']\n",
      "['ssw', 'd', '1', '5.csv']\n",
      "['ssw', 'e', '1', '11.csv']\n",
      "['ssw', 'e', '1', '5.csv']\n",
      "['ssw', 'f', '1', '11.csv']\n",
      "['ssw', 'f', '1', '5.csv']\n",
      "['ssw', 'g', '1', '11.csv']\n",
      "['ssw', 'g', '1', '5.csv']\n",
      "['ssw', 'h', '1', '11.csv']\n",
      "['ssw', 'h', '1', '5.csv']\n",
      "['ssw', 'i', '1', '11.csv']\n",
      "['ssw', 'i', '1', '5.csv']\n",
      "['ssw', 'j', '1', '11.csv']\n",
      "['ssw', 'j', '1', '5.csv']\n",
      "['ssw', 'a', '1', '11.csv']\n",
      "['ssw', 'a', '1', '5.csv']\n",
      "['ssw', 'b', '1', '11.csv']\n",
      "['ssw', 'b', '1', '5.csv']\n",
      "['ssw', 'c', '1', '11.csv']\n",
      "['ssw', 'c', '1', '5.csv']\n",
      "['ssw', 'd', '1', '11.csv']\n",
      "['ssw', 'd', '1', '5.csv']\n",
      "['ssw', 'e', '1', '11.csv']\n",
      "['ssw', 'e', '1', '5.csv']\n",
      "['ssw', 'f', '1', '11.csv']\n",
      "['ssw', 'f', '1', '5.csv']\n",
      "['ssw', 'g', '1', '11.csv']\n",
      "['ssw', 'g', '1', '5.csv']\n",
      "['ssw', 'h', '1', '11.csv']\n",
      "['ssw', 'h', '1', '5.csv']\n",
      "['ssw', 'i', '1', '11.csv']\n",
      "['ssw', 'i', '1', '5.csv']\n",
      "['ssw', 'j', '1', '11.csv']\n",
      "['ssw', 'j', '1', '5.csv']\n",
      "['ssw', 'a', '1', '11.csv']\n",
      "['ssw', 'a', '1', '5.csv']\n",
      "['ssw', 'b', '1', '11.csv']\n",
      "['ssw', 'b', '1', '5.csv']\n",
      "['ssw', 'c', '1', '11.csv']\n",
      "['ssw', 'c', '1', '5.csv']\n",
      "['ssw', 'd', '1', '11.csv']\n",
      "['ssw', 'd', '1', '5.csv']\n",
      "['ssw', 'e', '1', '11.csv']\n",
      "['ssw', 'e', '1', '5.csv']\n",
      "['ssw', 'f', '1', '11.csv']\n",
      "['ssw', 'f', '1', '5.csv']\n",
      "['ssw', 'g', '1', '11.csv']\n",
      "['ssw', 'g', '1', '5.csv']\n",
      "['ssw', 'h', '1', '11.csv']\n",
      "['ssw', 'h', '1', '5.csv']\n",
      "['ssw', 'i', '1', '11.csv']\n",
      "['ssw', 'i', '1', '5.csv']\n",
      "['ssw', 'j', '1', '11.csv']\n",
      "['ssw', 'j', '1', '5.csv']\n",
      "['ssw', 'a', '1', '11.csv']\n",
      "['ssw', 'a', '1', '5.csv']\n",
      "['ssw', 'b', '1', '11.csv']\n",
      "['ssw', 'b', '1', '5.csv']\n",
      "['ssw', 'c', '1', '11.csv']\n",
      "['ssw', 'c', '1', '5.csv']\n",
      "['ssw', 'd', '1', '11.csv']\n",
      "['ssw', 'd', '1', '5.csv']\n",
      "['ssw', 'e', '1', '11.csv']\n",
      "['ssw', 'e', '1', '5.csv']\n",
      "['ssw', 'f', '1', '11.csv']\n",
      "['ssw', 'f', '1', '5.csv']\n",
      "['ssw', 'g', '1', '11.csv']\n",
      "['ssw', 'g', '1', '5.csv']\n",
      "['ssw', 'h', '1', '11.csv']\n",
      "['ssw', 'h', '1', '5.csv']\n",
      "['ssw', 'i', '1', '11.csv']\n",
      "['ssw', 'i', '1', '5.csv']\n",
      "['ssw', 'j', '1', '11.csv']\n",
      "['ssw', 'j', '1', '5.csv']\n",
      "['ssw', 'a', '1', '11.csv']\n",
      "['ssw', 'a', '1', '5.csv']\n",
      "['ssw', 'b', '1', '11.csv']\n",
      "['ssw', 'b', '1', '5.csv']\n",
      "['ssw', 'c', '1', '11.csv']\n",
      "['ssw', 'c', '1', '5.csv']\n",
      "['ssw', 'd', '1', '11.csv']\n",
      "['ssw', 'd', '1', '5.csv']\n",
      "['ssw', 'e', '1', '11.csv']\n",
      "['ssw', 'e', '1', '5.csv']\n",
      "['ssw', 'f', '1', '11.csv']\n",
      "['ssw', 'f', '1', '5.csv']\n",
      "['ssw', 'g', '1', '11.csv']\n",
      "['ssw', 'g', '1', '5.csv']\n",
      "['ssw', 'h', '1', '11.csv']\n",
      "['ssw', 'h', '1', '5.csv']\n",
      "['ssw', 'i', '1', '11.csv']\n",
      "['ssw', 'i', '1', '5.csv']\n",
      "['ssw', 'j', '1', '11.csv']\n",
      "['ssw', 'j', '1', '5.csv']\n",
      "['ssw', 'a', '1', '11.csv']\n",
      "['ssw', 'a', '1', '5.csv']\n",
      "['ssw', 'b', '1', '11.csv']\n",
      "['ssw', 'b', '1', '5.csv']\n",
      "['ssw', 'c', '1', '11.csv']\n",
      "['ssw', 'c', '1', '5.csv']\n",
      "['ssw', 'd', '1', '11.csv']\n",
      "['ssw', 'd', '1', '5.csv']\n",
      "['ssw', 'e', '1', '11.csv']\n",
      "['ssw', 'e', '1', '5.csv']\n",
      "['ssw', 'f', '1', '11.csv']\n",
      "['ssw', 'f', '1', '5.csv']\n",
      "['ssw', 'g', '1', '11.csv']\n",
      "['ssw', 'g', '1', '5.csv']\n",
      "['ssw', 'h', '1', '11.csv']\n",
      "['ssw', 'h', '1', '5.csv']\n",
      "['ssw', 'i', '1', '11.csv']\n",
      "['ssw', 'i', '1', '5.csv']\n",
      "['ssw', 'j', '1', '11.csv']\n",
      "['ssw', 'j', '1', '5.csv']\n",
      "['ssw', 'a', '1', '11.csv']\n",
      "['ssw', 'a', '1', '5.csv']\n",
      "['ssw', 'b', '1', '11.csv']\n",
      "['ssw', 'b', '1', '5.csv']\n",
      "['ssw', 'c', '1', '11.csv']\n",
      "['ssw', 'c', '1', '5.csv']\n",
      "['ssw', 'd', '1', '11.csv']\n",
      "['ssw', 'd', '1', '5.csv']\n",
      "['ssw', 'e', '1', '11.csv']\n",
      "['ssw', 'e', '1', '5.csv']\n",
      "['ssw', 'f', '1', '11.csv']\n",
      "['ssw', 'f', '1', '5.csv']\n",
      "['ssw', 'g', '1', '11.csv']\n",
      "['ssw', 'g', '1', '5.csv']\n",
      "['ssw', 'h', '1', '11.csv']\n",
      "['ssw', 'h', '1', '5.csv']\n",
      "['ssw', 'i', '1', '11.csv']\n",
      "['ssw', 'i', '1', '5.csv']\n",
      "['ssw', 'j', '1', '11.csv']\n",
      "['ssw', 'j', '1', '5.csv']\n",
      "['ssw', 'a', '1', '11.csv']\n",
      "['ssw', 'a', '1', '5.csv']\n",
      "['ssw', 'b', '1', '11.csv']\n",
      "['ssw', 'b', '1', '5.csv']\n",
      "['ssw', 'c', '1', '11.csv']\n",
      "['ssw', 'c', '1', '5.csv']\n",
      "['ssw', 'd', '1', '11.csv']\n",
      "['ssw', 'd', '1', '5.csv']\n",
      "['ssw', 'e', '1', '11.csv']\n",
      "['ssw', 'e', '1', '5.csv']\n",
      "['ssw', 'f', '1', '11.csv']\n",
      "['ssw', 'f', '1', '5.csv']\n",
      "['ssw', 'g', '1', '11.csv']\n",
      "['ssw', 'g', '1', '5.csv']\n",
      "['ssw', 'h', '1', '11.csv']\n",
      "['ssw', 'h', '1', '5.csv']\n",
      "['ssw', 'i', '1', '11.csv']\n",
      "['ssw', 'i', '1', '5.csv']\n",
      "['ssw', 'j', '1', '11.csv']\n",
      "['ssw', 'j', '1', '5.csv']\n",
      "['ssw', 'a', '1', '11.csv']\n",
      "['ssw', 'a', '1', '5.csv']\n",
      "['ssw', 'b', '1', '11.csv']\n",
      "['ssw', 'b', '1', '5.csv']\n",
      "['ssw', 'c', '1', '11.csv']\n",
      "['ssw', 'c', '1', '5.csv']\n",
      "['ssw', 'd', '1', '11.csv']\n",
      "['ssw', 'd', '1', '5.csv']\n",
      "['ssw', 'e', '1', '11.csv']\n",
      "['ssw', 'e', '1', '5.csv']\n",
      "['ssw', 'f', '1', '11.csv']\n",
      "['ssw', 'f', '1', '5.csv']\n",
      "['ssw', 'g', '1', '11.csv']\n",
      "['ssw', 'g', '1', '5.csv']\n",
      "['ssw', 'h', '1', '11.csv']\n",
      "['ssw', 'h', '1', '5.csv']\n",
      "['ssw', 'i', '1', '11.csv']\n",
      "['ssw', 'i', '1', '5.csv']\n",
      "['ssw', 'j', '1', '11.csv']\n",
      "['ssw', 'j', '1', '5.csv']\n",
      "avg acc RF:  0.621\n",
      "avg acc SVM:  0.729\n",
      "avg acc LG:  0.519\n",
      "avg acc HMM:  0.531\n"
     ]
    },
    {
     "name": "stderr",
     "output_type": "stream",
     "text": [
      "/Users/waf/anaconda/envs/analysis/lib/python3.4/site-packages/sklearn/utils/deprecation.py:70: DeprecationWarning: Function log_multivariate_normal_density is deprecated; The function log_multivariate_normal_density is deprecated in 0.18 and will be removed in 0.20.\n",
      "  warnings.warn(msg, category=DeprecationWarning)\n",
      "/Users/waf/anaconda/envs/analysis/lib/python3.4/site-packages/sklearn/utils/deprecation.py:70: DeprecationWarning: Function log_multivariate_normal_density is deprecated; The function log_multivariate_normal_density is deprecated in 0.18 and will be removed in 0.20.\n",
      "  warnings.warn(msg, category=DeprecationWarning)\n",
      "/Users/waf/anaconda/envs/analysis/lib/python3.4/site-packages/sklearn/utils/deprecation.py:70: DeprecationWarning: Function log_multivariate_normal_density is deprecated; The function log_multivariate_normal_density is deprecated in 0.18 and will be removed in 0.20.\n",
      "  warnings.warn(msg, category=DeprecationWarning)\n",
      "/Users/waf/anaconda/envs/analysis/lib/python3.4/site-packages/sklearn/utils/deprecation.py:70: DeprecationWarning: Function log_multivariate_normal_density is deprecated; The function log_multivariate_normal_density is deprecated in 0.18 and will be removed in 0.20.\n",
      "  warnings.warn(msg, category=DeprecationWarning)\n",
      "/Users/waf/anaconda/envs/analysis/lib/python3.4/site-packages/sklearn/utils/deprecation.py:70: DeprecationWarning: Function log_multivariate_normal_density is deprecated; The function log_multivariate_normal_density is deprecated in 0.18 and will be removed in 0.20.\n",
      "  warnings.warn(msg, category=DeprecationWarning)\n",
      "/Users/waf/anaconda/envs/analysis/lib/python3.4/site-packages/sklearn/utils/deprecation.py:70: DeprecationWarning: Function log_multivariate_normal_density is deprecated; The function log_multivariate_normal_density is deprecated in 0.18 and will be removed in 0.20.\n",
      "  warnings.warn(msg, category=DeprecationWarning)\n",
      "/Users/waf/anaconda/envs/analysis/lib/python3.4/site-packages/sklearn/utils/deprecation.py:70: DeprecationWarning: Function log_multivariate_normal_density is deprecated; The function log_multivariate_normal_density is deprecated in 0.18 and will be removed in 0.20.\n",
      "  warnings.warn(msg, category=DeprecationWarning)\n",
      "/Users/waf/anaconda/envs/analysis/lib/python3.4/site-packages/sklearn/utils/deprecation.py:70: DeprecationWarning: Function log_multivariate_normal_density is deprecated; The function log_multivariate_normal_density is deprecated in 0.18 and will be removed in 0.20.\n",
      "  warnings.warn(msg, category=DeprecationWarning)\n",
      "/Users/waf/anaconda/envs/analysis/lib/python3.4/site-packages/sklearn/utils/deprecation.py:70: DeprecationWarning: Function log_multivariate_normal_density is deprecated; The function log_multivariate_normal_density is deprecated in 0.18 and will be removed in 0.20.\n",
      "  warnings.warn(msg, category=DeprecationWarning)\n"
     ]
    },
    {
     "name": "stdout",
     "output_type": "stream",
     "text": [
      "avg acc NN:  0.893\n",
      "avg acc NN:  0.889\n",
      "['rock', 'a', '1', '10.csv']\n",
      "['rock', 'b', '1', '10.csv']\n",
      "['rock', 'c', '1', '10.csv']\n",
      "['rock', 'e', '1', '10.csv']\n",
      "['rock', 'f', '1', '10.csv']\n",
      "['rock', 'g', '1', '10.csv']\n",
      "['rock', 'h', '1', '10.csv']\n",
      "['rock', 'i', '1', '10.csv']\n",
      "['rock', 'j', '1', '10.csv']\n",
      "['rock', 'a', '1', '10.csv']\n",
      "['rock', 'b', '1', '10.csv']\n",
      "['rock', 'c', '1', '10.csv']\n",
      "['rock', 'e', '1', '10.csv']\n",
      "['rock', 'f', '1', '10.csv']\n",
      "['rock', 'g', '1', '10.csv']\n",
      "['rock', 'h', '1', '10.csv']\n",
      "['rock', 'i', '1', '10.csv']\n",
      "['rock', 'j', '1', '10.csv']\n",
      "['rock', 'a', '1', '10.csv']\n",
      "['rock', 'b', '1', '10.csv']\n",
      "['rock', 'c', '1', '10.csv']\n",
      "['rock', 'e', '1', '10.csv']\n",
      "['rock', 'f', '1', '10.csv']\n",
      "['rock', 'g', '1', '10.csv']\n",
      "['rock', 'h', '1', '10.csv']\n",
      "['rock', 'i', '1', '10.csv']\n",
      "['rock', 'j', '1', '10.csv']\n",
      "['rock', 'a', '1', '10.csv']\n",
      "['rock', 'b', '1', '10.csv']\n",
      "['rock', 'c', '1', '10.csv']\n",
      "['rock', 'e', '1', '10.csv']\n",
      "['rock', 'f', '1', '10.csv']\n",
      "['rock', 'g', '1', '10.csv']\n",
      "['rock', 'h', '1', '10.csv']\n",
      "['rock', 'i', '1', '10.csv']\n",
      "['rock', 'j', '1', '10.csv']\n",
      "['rock', 'a', '1', '10.csv']\n",
      "['rock', 'b', '1', '10.csv']\n",
      "['rock', 'c', '1', '10.csv']\n",
      "['rock', 'e', '1', '10.csv']\n",
      "['rock', 'f', '1', '10.csv']\n",
      "['rock', 'g', '1', '10.csv']\n",
      "['rock', 'h', '1', '10.csv']\n",
      "['rock', 'i', '1', '10.csv']\n",
      "['rock', 'j', '1', '10.csv']\n",
      "['rock', 'a', '1', '10.csv']\n",
      "['rock', 'b', '1', '10.csv']\n",
      "['rock', 'c', '1', '10.csv']\n",
      "['rock', 'e', '1', '10.csv']\n",
      "['rock', 'f', '1', '10.csv']\n",
      "['rock', 'g', '1', '10.csv']\n",
      "['rock', 'h', '1', '10.csv']\n",
      "['rock', 'i', '1', '10.csv']\n",
      "['rock', 'j', '1', '10.csv']\n",
      "['rock', 'a', '1', '10.csv']\n",
      "['rock', 'b', '1', '10.csv']\n",
      "['rock', 'c', '1', '10.csv']\n",
      "['rock', 'e', '1', '10.csv']\n",
      "['rock', 'f', '1', '10.csv']\n",
      "['rock', 'g', '1', '10.csv']\n",
      "['rock', 'h', '1', '10.csv']\n",
      "['rock', 'i', '1', '10.csv']\n",
      "['rock', 'j', '1', '10.csv']\n",
      "['rock', 'a', '1', '10.csv']\n",
      "['rock', 'b', '1', '10.csv']\n",
      "['rock', 'c', '1', '10.csv']\n",
      "['rock', 'e', '1', '10.csv']\n",
      "['rock', 'f', '1', '10.csv']\n",
      "['rock', 'g', '1', '10.csv']\n",
      "['rock', 'h', '1', '10.csv']\n",
      "['rock', 'i', '1', '10.csv']\n",
      "['rock', 'j', '1', '10.csv']\n",
      "['rock', 'a', '1', '10.csv']\n",
      "['rock', 'b', '1', '10.csv']\n",
      "['rock', 'c', '1', '10.csv']\n",
      "['rock', 'e', '1', '10.csv']\n",
      "['rock', 'f', '1', '10.csv']\n",
      "['rock', 'g', '1', '10.csv']\n",
      "['rock', 'h', '1', '10.csv']\n",
      "['rock', 'i', '1', '10.csv']\n",
      "['rock', 'j', '1', '10.csv']\n",
      "['rock', 'a', '1', '10.csv']\n",
      "['rock', 'b', '1', '10.csv']\n",
      "['rock', 'c', '1', '10.csv']\n",
      "['rock', 'e', '1', '10.csv']\n",
      "['rock', 'f', '1', '10.csv']\n",
      "['rock', 'g', '1', '10.csv']\n",
      "['rock', 'h', '1', '10.csv']\n",
      "['rock', 'i', '1', '10.csv']\n",
      "['rock', 'j', '1', '10.csv']\n",
      "['rock', 'a', '1', '10.csv']\n",
      "['rock', 'b', '1', '10.csv']\n",
      "['rock', 'c', '1', '10.csv']\n",
      "['rock', 'e', '1', '10.csv']\n",
      "['rock', 'f', '1', '10.csv']\n",
      "['rock', 'g', '1', '10.csv']\n",
      "['rock', 'h', '1', '10.csv']\n",
      "['rock', 'i', '1', '10.csv']\n",
      "['rock', 'j', '1', '10.csv']\n"
     ]
    }
   ],
   "source": [
    "def plot_err_dists(flr_delta=False):\n",
    "    bldgs = ['mudd', 'gsb', 'noco', 'ssw', 'rock']\n",
    "    \n",
    "    # measure errors across flr height ranges\n",
    "    accs = []\n",
    "    \n",
    "    # create evenly spaced line of floats\n",
    "    intervals = np.linspace(start=2.4, stop=5.0, num=11)\n",
    "    print(intervals)\n",
    "    results_mtx = np.zeros(shape=(len(bldgs), len(intervals)))\n",
    "    \n",
    "    for i, bldg in enumerate(bldgs):\n",
    "        bldg_df, frames_names = load_data(bldg) \n",
    "    \n",
    "        for j in range(len(intervals)):\n",
    "\n",
    "            height = intervals[j]\n",
    "            results, flr_heights = run(bldg_df,frames_names,  height)\n",
    "            if flr_delta:\n",
    "                results['errors'] = abs(results.pred_delta) - abs(results.real_delta)\n",
    "            else:\n",
    "                results['errors'] = abs(results.predicted) - abs(results.test_end)\n",
    "            \n",
    "            counts = results['errors'].value_counts()\n",
    "            errs = counts.to_dict()\n",
    "            acc = 0 \n",
    "            if 0 in errs:\n",
    "                acc = (float(errs[0])/len(results))\n",
    "            results_mtx[i][j] = acc\n",
    "\n",
    "    return results_mtx, intervals\n",
    "\n",
    "#accs, intervals = plot_err_dists()\n",
    "accs, intervals = plot_err_dists(flr_delta=True)"
   ]
  },
  {
   "cell_type": "code",
   "execution_count": 476,
   "metadata": {
    "collapsed": false,
    "deletable": true,
    "editable": true
   },
   "outputs": [
    {
     "data": {
      "image/png": "[encoded data removed]",
      "text/plain": [
       "<matplotlib.figure.Figure at 0x121d03d30>"
      ]
     },
     "metadata": {},
     "output_type": "display_data"
    }
   ],
   "source": [
    "accs.shape\n",
    "plt.imshow(accs, cmap='hot_r', interpolation='nearest')\n",
    "plt.xticks(np.linspace(0, 10, 11), intervals)\n",
    "plt.yticks([0,1,2,3, 4], ['mudd', 'gsb', 'noco', 'ssw', 'rock'])\n",
    "plt.ylabel('building')\n",
    "plt.xlabel('floor-ceiling height estimate (m)')\n",
    "plt.colorbar(ticks=[0, 0.5, 1.00], orientation='vertical', fraction=0.018)\n",
    "plt.title('Distribution of prediction accuracies\\nby building')\n",
    "savefig('./images/heat.png', bbox_inches='tight')\n",
    "plt.show()"
   ]
  },
  {
   "cell_type": "code",
   "execution_count": 477,
   "metadata": {
    "collapsed": false,
    "deletable": true,
    "editable": true
   },
   "outputs": [
    {
     "name": "stdout",
     "output_type": "stream",
     "text": [
      " 0    41\n",
      "-1    21\n",
      " 1     1\n",
      "Name: errors, dtype: int64\n",
      "\n",
      "percents\n",
      "  0    0.650794\n",
      "-1    0.333333\n",
      " 1    0.015873\n",
      "Name: errors, dtype: float64\n"
     ]
    }
   ],
   "source": [
    "counts = results['errors'].value_counts()\n",
    "print(counts)\n",
    "print('\\npercents\\n', counts/len(x))"
   ]
  },
  {
   "cell_type": "markdown",
   "metadata": {},
   "source": [
    "### Run test on cluster dataset"
   ]
  },
  {
   "cell_type": "code",
   "execution_count": 482,
   "metadata": {
    "collapsed": false
   },
   "outputs": [
    {
     "name": "stdout",
     "output_type": "stream",
     "text": [
      "avg acc RF:  0.621\n",
      "avg acc SVM:  0.758\n",
      "avg acc LG:  0.786\n",
      "avg acc HMM:  0.679\n"
     ]
    },
    {
     "name": "stderr",
     "output_type": "stream",
     "text": [
      "/Users/waf/anaconda/envs/analysis/lib/python3.4/site-packages/sklearn/utils/deprecation.py:70: DeprecationWarning: Function log_multivariate_normal_density is deprecated; The function log_multivariate_normal_density is deprecated in 0.18 and will be removed in 0.20.\n",
      "  warnings.warn(msg, category=DeprecationWarning)\n",
      "/Users/waf/anaconda/envs/analysis/lib/python3.4/site-packages/sklearn/utils/deprecation.py:70: DeprecationWarning: Function log_multivariate_normal_density is deprecated; The function log_multivariate_normal_density is deprecated in 0.18 and will be removed in 0.20.\n",
      "  warnings.warn(msg, category=DeprecationWarning)\n",
      "/Users/waf/anaconda/envs/analysis/lib/python3.4/site-packages/sklearn/utils/deprecation.py:70: DeprecationWarning: Function log_multivariate_normal_density is deprecated; The function log_multivariate_normal_density is deprecated in 0.18 and will be removed in 0.20.\n",
      "  warnings.warn(msg, category=DeprecationWarning)\n",
      "/Users/waf/anaconda/envs/analysis/lib/python3.4/site-packages/sklearn/utils/deprecation.py:70: DeprecationWarning: Function log_multivariate_normal_density is deprecated; The function log_multivariate_normal_density is deprecated in 0.18 and will be removed in 0.20.\n",
      "  warnings.warn(msg, category=DeprecationWarning)\n",
      "/Users/waf/anaconda/envs/analysis/lib/python3.4/site-packages/sklearn/utils/deprecation.py:70: DeprecationWarning: Function log_multivariate_normal_density is deprecated; The function log_multivariate_normal_density is deprecated in 0.18 and will be removed in 0.20.\n",
      "  warnings.warn(msg, category=DeprecationWarning)\n",
      "/Users/waf/anaconda/envs/analysis/lib/python3.4/site-packages/sklearn/utils/deprecation.py:70: DeprecationWarning: Function log_multivariate_normal_density is deprecated; The function log_multivariate_normal_density is deprecated in 0.18 and will be removed in 0.20.\n",
      "  warnings.warn(msg, category=DeprecationWarning)\n",
      "/Users/waf/anaconda/envs/analysis/lib/python3.4/site-packages/sklearn/utils/deprecation.py:70: DeprecationWarning: Function log_multivariate_normal_density is deprecated; The function log_multivariate_normal_density is deprecated in 0.18 and will be removed in 0.20.\n",
      "  warnings.warn(msg, category=DeprecationWarning)\n",
      "/Users/waf/anaconda/envs/analysis/lib/python3.4/site-packages/sklearn/utils/deprecation.py:70: DeprecationWarning: Function log_multivariate_normal_density is deprecated; The function log_multivariate_normal_density is deprecated in 0.18 and will be removed in 0.20.\n",
      "  warnings.warn(msg, category=DeprecationWarning)\n",
      "/Users/waf/anaconda/envs/analysis/lib/python3.4/site-packages/sklearn/utils/deprecation.py:70: DeprecationWarning: Function log_multivariate_normal_density is deprecated; The function log_multivariate_normal_density is deprecated in 0.18 and will be removed in 0.20.\n",
      "  warnings.warn(msg, category=DeprecationWarning)\n",
      "/Users/waf/anaconda/envs/analysis/lib/python3.4/site-packages/sklearn/utils/deprecation.py:70: DeprecationWarning: Function log_multivariate_normal_density is deprecated; The function log_multivariate_normal_density is deprecated in 0.18 and will be removed in 0.20.\n",
      "  warnings.warn(msg, category=DeprecationWarning)\n",
      "/Users/waf/anaconda/envs/analysis/lib/python3.4/site-packages/sklearn/utils/deprecation.py:70: DeprecationWarning: Function log_multivariate_normal_density is deprecated; The function log_multivariate_normal_density is deprecated in 0.18 and will be removed in 0.20.\n",
      "  warnings.warn(msg, category=DeprecationWarning)\n",
      "/Users/waf/anaconda/envs/analysis/lib/python3.4/site-packages/sklearn/utils/deprecation.py:70: DeprecationWarning: Function log_multivariate_normal_density is deprecated; The function log_multivariate_normal_density is deprecated in 0.18 and will be removed in 0.20.\n",
      "  warnings.warn(msg, category=DeprecationWarning)\n",
      "/Users/waf/anaconda/envs/analysis/lib/python3.4/site-packages/sklearn/utils/deprecation.py:70: DeprecationWarning: Function log_multivariate_normal_density is deprecated; The function log_multivariate_normal_density is deprecated in 0.18 and will be removed in 0.20.\n",
      "  warnings.warn(msg, category=DeprecationWarning)\n",
      "/Users/waf/anaconda/envs/analysis/lib/python3.4/site-packages/sklearn/utils/deprecation.py:70: DeprecationWarning: Function log_multivariate_normal_density is deprecated; The function log_multivariate_normal_density is deprecated in 0.18 and will be removed in 0.20.\n",
      "  warnings.warn(msg, category=DeprecationWarning)\n",
      "/Users/waf/anaconda/envs/analysis/lib/python3.4/site-packages/sklearn/utils/deprecation.py:70: DeprecationWarning: Function log_multivariate_normal_density is deprecated; The function log_multivariate_normal_density is deprecated in 0.18 and will be removed in 0.20.\n",
      "  warnings.warn(msg, category=DeprecationWarning)\n",
      "/Users/waf/anaconda/envs/analysis/lib/python3.4/site-packages/sklearn/utils/deprecation.py:70: DeprecationWarning: Function log_multivariate_normal_density is deprecated; The function log_multivariate_normal_density is deprecated in 0.18 and will be removed in 0.20.\n",
      "  warnings.warn(msg, category=DeprecationWarning)\n",
      "/Users/waf/anaconda/envs/analysis/lib/python3.4/site-packages/sklearn/utils/deprecation.py:70: DeprecationWarning: Function log_multivariate_normal_density is deprecated; The function log_multivariate_normal_density is deprecated in 0.18 and will be removed in 0.20.\n",
      "  warnings.warn(msg, category=DeprecationWarning)\n",
      "/Users/waf/anaconda/envs/analysis/lib/python3.4/site-packages/sklearn/utils/deprecation.py:70: DeprecationWarning: Function log_multivariate_normal_density is deprecated; The function log_multivariate_normal_density is deprecated in 0.18 and will be removed in 0.20.\n",
      "  warnings.warn(msg, category=DeprecationWarning)\n",
      "/Users/waf/anaconda/envs/analysis/lib/python3.4/site-packages/sklearn/utils/deprecation.py:70: DeprecationWarning: Function log_multivariate_normal_density is deprecated; The function log_multivariate_normal_density is deprecated in 0.18 and will be removed in 0.20.\n",
      "  warnings.warn(msg, category=DeprecationWarning)\n",
      "/Users/waf/anaconda/envs/analysis/lib/python3.4/site-packages/sklearn/utils/deprecation.py:70: DeprecationWarning: Function log_multivariate_normal_density is deprecated; The function log_multivariate_normal_density is deprecated in 0.18 and will be removed in 0.20.\n",
      "  warnings.warn(msg, category=DeprecationWarning)\n",
      "/Users/waf/anaconda/envs/analysis/lib/python3.4/site-packages/sklearn/utils/deprecation.py:70: DeprecationWarning: Function log_multivariate_normal_density is deprecated; The function log_multivariate_normal_density is deprecated in 0.18 and will be removed in 0.20.\n",
      "  warnings.warn(msg, category=DeprecationWarning)\n",
      "/Users/waf/anaconda/envs/analysis/lib/python3.4/site-packages/sklearn/utils/deprecation.py:70: DeprecationWarning: Function log_multivariate_normal_density is deprecated; The function log_multivariate_normal_density is deprecated in 0.18 and will be removed in 0.20.\n",
      "  warnings.warn(msg, category=DeprecationWarning)\n",
      "/Users/waf/anaconda/envs/analysis/lib/python3.4/site-packages/sklearn/utils/deprecation.py:70: DeprecationWarning: Function log_multivariate_normal_density is deprecated; The function log_multivariate_normal_density is deprecated in 0.18 and will be removed in 0.20.\n",
      "  warnings.warn(msg, category=DeprecationWarning)\n",
      "/Users/waf/anaconda/envs/analysis/lib/python3.4/site-packages/sklearn/utils/deprecation.py:70: DeprecationWarning: Function log_multivariate_normal_density is deprecated; The function log_multivariate_normal_density is deprecated in 0.18 and will be removed in 0.20.\n",
      "  warnings.warn(msg, category=DeprecationWarning)\n",
      "/Users/waf/anaconda/envs/analysis/lib/python3.4/site-packages/sklearn/utils/deprecation.py:70: DeprecationWarning: Function log_multivariate_normal_density is deprecated; The function log_multivariate_normal_density is deprecated in 0.18 and will be removed in 0.20.\n",
      "  warnings.warn(msg, category=DeprecationWarning)\n",
      "/Users/waf/anaconda/envs/analysis/lib/python3.4/site-packages/sklearn/utils/deprecation.py:70: DeprecationWarning: Function log_multivariate_normal_density is deprecated; The function log_multivariate_normal_density is deprecated in 0.18 and will be removed in 0.20.\n",
      "  warnings.warn(msg, category=DeprecationWarning)\n",
      "/Users/waf/anaconda/envs/analysis/lib/python3.4/site-packages/sklearn/utils/deprecation.py:70: DeprecationWarning: Function log_multivariate_normal_density is deprecated; The function log_multivariate_normal_density is deprecated in 0.18 and will be removed in 0.20.\n",
      "  warnings.warn(msg, category=DeprecationWarning)\n",
      "/Users/waf/anaconda/envs/analysis/lib/python3.4/site-packages/sklearn/utils/deprecation.py:70: DeprecationWarning: Function log_multivariate_normal_density is deprecated; The function log_multivariate_normal_density is deprecated in 0.18 and will be removed in 0.20.\n",
      "  warnings.warn(msg, category=DeprecationWarning)\n",
      "/Users/waf/anaconda/envs/analysis/lib/python3.4/site-packages/sklearn/utils/deprecation.py:70: DeprecationWarning: Function log_multivariate_normal_density is deprecated; The function log_multivariate_normal_density is deprecated in 0.18 and will be removed in 0.20.\n",
      "  warnings.warn(msg, category=DeprecationWarning)\n",
      "/Users/waf/anaconda/envs/analysis/lib/python3.4/site-packages/sklearn/utils/deprecation.py:70: DeprecationWarning: Function log_multivariate_normal_density is deprecated; The function log_multivariate_normal_density is deprecated in 0.18 and will be removed in 0.20.\n",
      "  warnings.warn(msg, category=DeprecationWarning)\n",
      "/Users/waf/anaconda/envs/analysis/lib/python3.4/site-packages/sklearn/utils/deprecation.py:70: DeprecationWarning: Function log_multivariate_normal_density is deprecated; The function log_multivariate_normal_density is deprecated in 0.18 and will be removed in 0.20.\n",
      "  warnings.warn(msg, category=DeprecationWarning)\n",
      "/Users/waf/anaconda/envs/analysis/lib/python3.4/site-packages/sklearn/utils/deprecation.py:70: DeprecationWarning: Function log_multivariate_normal_density is deprecated; The function log_multivariate_normal_density is deprecated in 0.18 and will be removed in 0.20.\n",
      "  warnings.warn(msg, category=DeprecationWarning)\n",
      "/Users/waf/anaconda/envs/analysis/lib/python3.4/site-packages/sklearn/utils/deprecation.py:70: DeprecationWarning: Function log_multivariate_normal_density is deprecated; The function log_multivariate_normal_density is deprecated in 0.18 and will be removed in 0.20.\n",
      "  warnings.warn(msg, category=DeprecationWarning)\n",
      "/Users/waf/anaconda/envs/analysis/lib/python3.4/site-packages/sklearn/utils/deprecation.py:70: DeprecationWarning: Function log_multivariate_normal_density is deprecated; The function log_multivariate_normal_density is deprecated in 0.18 and will be removed in 0.20.\n",
      "  warnings.warn(msg, category=DeprecationWarning)\n",
      "/Users/waf/anaconda/envs/analysis/lib/python3.4/site-packages/sklearn/utils/deprecation.py:70: DeprecationWarning: Function log_multivariate_normal_density is deprecated; The function log_multivariate_normal_density is deprecated in 0.18 and will be removed in 0.20.\n",
      "  warnings.warn(msg, category=DeprecationWarning)\n",
      "/Users/waf/anaconda/envs/analysis/lib/python3.4/site-packages/sklearn/utils/deprecation.py:70: DeprecationWarning: Function log_multivariate_normal_density is deprecated; The function log_multivariate_normal_density is deprecated in 0.18 and will be removed in 0.20.\n",
      "  warnings.warn(msg, category=DeprecationWarning)\n",
      "/Users/waf/anaconda/envs/analysis/lib/python3.4/site-packages/sklearn/utils/deprecation.py:70: DeprecationWarning: Function log_multivariate_normal_density is deprecated; The function log_multivariate_normal_density is deprecated in 0.18 and will be removed in 0.20.\n",
      "  warnings.warn(msg, category=DeprecationWarning)\n",
      "/Users/waf/anaconda/envs/analysis/lib/python3.4/site-packages/sklearn/utils/deprecation.py:70: DeprecationWarning: Function log_multivariate_normal_density is deprecated; The function log_multivariate_normal_density is deprecated in 0.18 and will be removed in 0.20.\n",
      "  warnings.warn(msg, category=DeprecationWarning)\n",
      "/Users/waf/anaconda/envs/analysis/lib/python3.4/site-packages/sklearn/utils/deprecation.py:70: DeprecationWarning: Function log_multivariate_normal_density is deprecated; The function log_multivariate_normal_density is deprecated in 0.18 and will be removed in 0.20.\n",
      "  warnings.warn(msg, category=DeprecationWarning)\n",
      "/Users/waf/anaconda/envs/analysis/lib/python3.4/site-packages/sklearn/utils/deprecation.py:70: DeprecationWarning: Function log_multivariate_normal_density is deprecated; The function log_multivariate_normal_density is deprecated in 0.18 and will be removed in 0.20.\n",
      "  warnings.warn(msg, category=DeprecationWarning)\n",
      "/Users/waf/anaconda/envs/analysis/lib/python3.4/site-packages/sklearn/utils/deprecation.py:70: DeprecationWarning: Function log_multivariate_normal_density is deprecated; The function log_multivariate_normal_density is deprecated in 0.18 and will be removed in 0.20.\n",
      "  warnings.warn(msg, category=DeprecationWarning)\n"
     ]
    },
    {
     "name": "stdout",
     "output_type": "stream",
     "text": [
      "avg acc NN:  0.853\n",
      "avg acc NN:  0.855\n"
     ]
    }
   ],
   "source": [
    "focus_exp_name = ''\n",
    "frames, frames_names = load_data(focus_exp_name, data_path='/Users/waf/Developer/temp_floor/floor/data/floor_cluster_test_data/data')                      \n",
    "#print('num experiments: ', len(frames))\n",
    "\n",
    "meters = run_flr_find(frames,frames_names).values.flatten()"
   ]
  },
  {
   "cell_type": "code",
   "execution_count": 484,
   "metadata": {
    "collapsed": false,
    "deletable": true,
    "editable": true
   },
   "outputs": [
    {
     "name": "stdout",
     "output_type": "stream",
     "text": [
      "[4.9163581299180628, 5.0899290998170157, 5.1607004588218928, 5.1654731206702582, 5.2010888094815986, 5.4777927984459573, 5.5142313144281445, 8.0881565135596194, 8.3245789682248787, 8.5331855426000285, 8.5954104544104997, 8.7444250683283045, 9.1085316668565568, 9.121379632060961, 9.4352510342198652, 11.249021764177281, 11.396249023417376, 11.543346969676362, 12.058258594951244, 12.061291991838658, 12.146253549591631, 12.288216355478191, 12.373097739447857, 12.677457298495721, 15.259289845120772, 15.379644990300175, 15.635297526983468, 15.840511350564716, 18.559605939078164, 18.748893229370708, 18.749065225281658, 19.029525062216369, 19.304226535053218, 19.343848039306597, 22.386234310046195, 22.400741033274034, 22.75460898955016, 25.557456527866648, 25.872109042900171, 25.9837806758871, 26.153266237080395] \n",
      "\n",
      "predicted floor height =  nan\n",
      "predicted floor height =  nan\n",
      "predicted floor height =  nan\n",
      "predicted floor height =  nan\n",
      "predicted floor height =  nan\n",
      "predicted floor height =  nan\n",
      "predicted floor height =  nan\n",
      "predicted floor height =  2.92268339289\n",
      "predicted floor height =  3.04089462022\n",
      "predicted floor height =  3.15910584755\n",
      "predicted floor height =  3.26340913474\n",
      "predicted floor height =  3.36771242193\n",
      "predicted floor height =  3.39882487784\n",
      "predicted floor height =  3.42993733374\n",
      "predicted floor height =  3.5044446407\n",
      "predicted floor height =  3.04177432175\n",
      "predicted floor height =  3.07858113656\n",
      "predicted floor height =  3.11538795137\n",
      "predicted floor height =  3.15216243794\n",
      "predicted floor height =  3.1889369245\n",
      "predicted floor height =  3.31766483082\n",
      "predicted floor height =  3.44639273714\n",
      "predicted floor height =  3.44715108636\n",
      "predicted floor height =  3.44790943558\n",
      "predicted floor height =  3.36460557482\n",
      "predicted floor height =  3.38466476568\n",
      "predicted floor height =  3.40472395654\n",
      "predicted floor height =  3.44733271266\n",
      "predicted floor height =  3.3485332046\n",
      "predicted floor height =  3.37219411589\n",
      "predicted floor height =  3.39585502718\n",
      "predicted floor height =  3.39587652666\n",
      "predicted floor height =  3.39589802615\n",
      "predicted floor height =  3.43095550577\n",
      "predicted floor height =  3.44415223788\n",
      "predicted floor height =  3.4456029102\n",
      "predicted floor height =  3.44705358252\n",
      "predicted floor height =  3.3986639012\n",
      "predicted floor height =  3.42488494412\n",
      "predicted floor height =  3.45110598704\n",
      "3.41400247648 3.43470999559\n"
     ]
    },
    {
     "name": "stderr",
     "output_type": "stream",
     "text": [
      "/Users/waf/anaconda/envs/analysis/lib/python3.4/site-packages/numpy/core/fromnumeric.py:2909: RuntimeWarning: Mean of empty slice.\n",
      "  out=out, **kwargs)\n",
      "/Users/waf/anaconda/envs/analysis/lib/python3.4/site-packages/numpy/core/_methods.py:80: RuntimeWarning: invalid value encountered in double_scalars\n",
      "  ret = ret.dtype.type(ret / rcount)\n"
     ]
    },
    {
     "data": {
      "text/plain": [
       "<matplotlib.axes._subplots.AxesSubplot at 0x121840390>"
      ]
     },
     "execution_count": 484,
     "metadata": {},
     "output_type": "execute_result"
    },
    {
     "data": {
      "image/png": "[encoded data removed]",
      "text/plain": [
       "<matplotlib.figure.Figure at 0x1254114a8>"
      ]
     },
     "metadata": {},
     "output_type": "display_data"
    }
   ],
   "source": [
    "# sort meter changes \n",
    "meters = sorted(meters)\n",
    "print(meters, '\\n')\n",
    "\n",
    "# list of heights as n goes to inf\n",
    "pred_heights = []\n",
    "\n",
    "\n",
    "for j in range(1, len(meters)):\n",
    "    local_meters = meters[0:j]\n",
    "    \n",
    "    # cluster by taking items with < 1.5 meter difference\n",
    "    clusters = []\n",
    "    active_cluster = []\n",
    "    active_m = local_meters[0]\n",
    "    for m in local_meters:\n",
    "        diff = abs(m - active_m)\n",
    "        if diff <= 1.7:\n",
    "            # in same cluster\n",
    "            active_cluster.append(m)\n",
    "        else:\n",
    "            clusters.append(active_cluster)\n",
    "            active_cluster = [m]\n",
    "            active_m = m\n",
    "\n",
    "    clusters.append(active_cluster)\n",
    "\n",
    "            \n",
    "\n",
    "    # try diff bn clusters\n",
    "    diffs_clusters = []\n",
    "    for i in range(len(clusters) - 1):\n",
    "        cluster_a = clusters[i]\n",
    "        cluster_b = clusters[i+1]\n",
    "        diffs_clusters.append(abs(np.median(cluster_a) - np.median(cluster_b)))\n",
    "\n",
    "    pred_height = np.mean(diffs_clusters)\n",
    "    pred_heights.append(pred_height)\n",
    "    print('predicted floor height = ', pred_height)\n",
    "    \n",
    "# try diff bn each measurement\n",
    "msrs = []\n",
    "for i in range(len(clusters) - 1):\n",
    "    c_a = clusters[i]\n",
    "    c_b = clusters[i+1]\n",
    "\n",
    "    for a in c_a:\n",
    "        for b in c_b:\n",
    "            diff = abs(a - b)\n",
    "            msrs.append(diff)\n",
    "print(np.mean(msrs), np.median(msrs))\n",
    "sns.distplot(msrs)\n",
    "\n"
   ]
  },
  {
   "cell_type": "code",
   "execution_count": 485,
   "metadata": {
    "collapsed": false,
    "deletable": true,
    "editable": true
   },
   "outputs": [
    {
     "name": "stdout",
     "output_type": "stream",
     "text": [
      "1 - 2 5.16547312067 real:  5.461\n",
      "2 - 3 3.5044446407 real:  3.6576\n",
      "3 - 4 3.39137423047 real:  3.6576\n",
      "4 - 5 3.4461792668 real:  3.5\n",
      "5 - 6 3.38182388511 real:  3.5\n",
      "6 - 7 3.51144588953 real:  3.5\n",
      "7 - 8 3.47136800963 real:  3.5\n",
      "est:  3.69601557756\n"
     ]
    }
   ],
   "source": [
    "# estimated\n",
    "est = []\n",
    "pred_heights = []\n",
    "\n",
    "# real \n",
    "real_h = [5.461, 3.6576, 3.6576, 3.5, 3.5, 3.5, 3.5, 3.5]\n",
    "z = abs(np.median(clusters[0]))\n",
    "est.append(z)\n",
    "print('1 - 2', z, 'real: ', real_h[0])\n",
    "for i in range(len(clusters)-1):\n",
    "    z = abs(np.median(clusters[i]) - np.median(clusters[i + 1]))\n",
    "    est.append(z)\n",
    "    print(i + 2,'-', i + 3, z, 'real: ', real_h[i+1])\n",
    "    pred_heights.append(np.mean(est))\n",
    "\n",
    "print('est: ', np.mean(est))\n"
   ]
  },
  {
   "cell_type": "code",
   "execution_count": 486,
   "metadata": {
    "collapsed": false,
    "deletable": true,
    "editable": true
   },
   "outputs": [
    {
     "data": {
      "text/plain": [
       "[<matplotlib.lines.Line2D at 0x11f0dda20>]"
      ]
     },
     "execution_count": 486,
     "metadata": {},
     "output_type": "execute_result"
    },
    {
     "data": {
      "image/png": "[encoded data removed]",
      "text/plain": [
       "<matplotlib.figure.Figure at 0x1219403c8>"
      ]
     },
     "metadata": {},
     "output_type": "display_data"
    },
    {
     "data": {
      "image/png": "[encoded data removed]",
      "text/plain": [
       "<matplotlib.figure.Figure at 0x11f0dc7f0>"
      ]
     },
     "metadata": {},
     "output_type": "display_data"
    }
   ],
   "source": [
    "# plot predicted meter changes for each floor\n",
    "ff = pd.DataFrame([0] + meters)\n",
    "plt1 = plt.figure()\n",
    "ax1 = plt1.add_subplot(111)\n",
    "ax1.scatter(x=[0] * len(ff), y=ff)\n",
    "for i in range(1, len(est)):\n",
    "    ax1.axhline(sum(est[:i]), linestyle='--')\n",
    "\n",
    "ax1.axhline(sum(est), label='Floor', linestyle='--')\n",
    "\n",
    "plt2 = plt.figure()\n",
    "ax2 = plt2.add_subplot(111)\n",
    "ax2.plot(pred_heights)"
   ]
  },
  {
   "cell_type": "code",
   "execution_count": 487,
   "metadata": {
    "collapsed": false,
    "deletable": true,
    "editable": true
   },
   "outputs": [
    {
     "data": {
      "text/plain": [
       "<matplotlib.figure.Figure at 0x11a6b0710>"
      ]
     },
     "metadata": {},
     "output_type": "display_data"
    },
    {
     "data": {
      "image/png": "[encoded data removed]",
      "text/plain": [
       "<matplotlib.figure.Figure at 0x124e89e80>"
      ]
     },
     "metadata": {},
     "output_type": "display_data"
    }
   ],
   "source": [
    "x = results.pred_delta.values.astype(np.float16)\n",
    "# x += np.random.rand(len(x))\n",
    "y = results.real_delta.values.astype(np.float16)\n",
    "# y += np.random.rand(len(y))\n",
    "\n",
    "# predicted in out\n",
    "plt.figure(figsize=(6, 4))\n",
    "fig, ax = plt.subplots() \n",
    "plt.ylabel('Predicted floor')\n",
    "plt.xlabel('True floor')\n",
    "plt.title('m=4.02')\n",
    "plt.scatter(x, y)\n",
    "savefig('./images/floor_scatter.png', bbox_inches='tight')\n",
    "plt.show()"
   ]
  },
  {
   "cell_type": "markdown",
   "metadata": {
    "deletable": true,
    "editable": true
   },
   "source": [
    "--- \n",
    "# Look at building data distribution   \n",
    "This is how we learned the heuristic m=4.02 for office buildings   \n"
   ]
  },
  {
   "cell_type": "markdown",
   "metadata": {},
   "source": [
    "### Residential buildings  "
   ]
  },
  {
   "cell_type": "code",
   "execution_count": 490,
   "metadata": {
    "collapsed": false,
    "deletable": true,
    "editable": true
   },
   "outputs": [
    {
     "name": "stdout",
     "output_type": "stream",
     "text": [
      "1343\n"
     ]
    },
    {
     "name": "stderr",
     "output_type": "stream",
     "text": [
      "/Users/waf/anaconda/envs/analysis/lib/python3.4/site-packages/ipykernel/__main__.py:9: FutureWarning: convert_objects is deprecated.  Use the data-type specific converters pd.to_datetime, pd.to_timedelta and pd.to_numeric.\n"
     ]
    }
   ],
   "source": [
    "# plot distribution of heights\n",
    "d = pd.read_json('../data/building_floor_distribution_data/buildings.json')\n",
    "print(len(d))\n",
    "bldgs = d[['height_architecture', 'floors_above','functions']]\n",
    "office_bldgs = bldgs[bldgs.functions == 'office']\n",
    "resi_bldgs = bldgs[bldgs.functions == 'residential']\n",
    "\n",
    "bldgs = resi_bldgs\n",
    "bldgs = bldgs.convert_objects(convert_numeric=True).dropna()\n",
    "\n",
    "bldgs['flr_height'] = bldgs['height_architecture'] / bldgs['floors_above']"
   ]
  },
  {
   "cell_type": "code",
   "execution_count": 491,
   "metadata": {
    "collapsed": false,
    "deletable": true,
    "editable": true
   },
   "outputs": [
    {
     "data": {
      "text/plain": [
       "count    615.000000\n",
       "mean       3.325136\n",
       "std        0.359867\n",
       "min        2.522414\n",
       "25%        3.087741\n",
       "50%        3.240741\n",
       "75%        3.486272\n",
       "max        5.005882\n",
       "Name: flr_height, dtype: float64"
      ]
     },
     "execution_count": 491,
     "metadata": {},
     "output_type": "execute_result"
    }
   ],
   "source": [
    "bldgs['flr_height'].describe()"
   ]
  },
  {
   "cell_type": "code",
   "execution_count": 492,
   "metadata": {
    "collapsed": false,
    "deletable": true,
    "editable": true
   },
   "outputs": [
    {
     "data": {
      "text/plain": [
       "3.240740740740741"
      ]
     },
     "execution_count": 492,
     "metadata": {},
     "output_type": "execute_result"
    }
   ],
   "source": [
    "bldgs['flr_height'].median()"
   ]
  },
  {
   "cell_type": "code",
   "execution_count": 493,
   "metadata": {
    "collapsed": false,
    "deletable": true,
    "editable": true,
    "scrolled": true
   },
   "outputs": [
    {
     "data": {
      "image/png": "[encoded data removed]",
      "text/plain": [
       "<matplotlib.figure.Figure at 0x11f0af978>"
      ]
     },
     "metadata": {},
     "output_type": "display_data"
    }
   ],
   "source": [
    "# bldgs['flr_height'].plot.density()\n",
    "ax= sns.distplot(bldgs['flr_height'], bins=100)\n",
    "ax.set(xlabel='Floor height distribution (m)')\n",
    "ax.set(title='Residential Buildings (n={})'.format(len(bldgs)))\n",
    "savefig('./images/res_bldg.png', bbox_inches='tight')"
   ]
  },
  {
   "cell_type": "markdown",
   "metadata": {
    "deletable": true,
    "editable": true
   },
   "source": [
    "--- \n",
    "### Office buildings   \n",
    "Look at building data distribution"
   ]
  },
  {
   "cell_type": "code",
   "execution_count": 494,
   "metadata": {
    "collapsed": false,
    "deletable": true,
    "editable": true
   },
   "outputs": [
    {
     "name": "stdout",
     "output_type": "stream",
     "text": [
      "1343\n"
     ]
    },
    {
     "name": "stderr",
     "output_type": "stream",
     "text": [
      "/Users/waf/anaconda/envs/analysis/lib/python3.4/site-packages/ipykernel/__main__.py:8: FutureWarning: convert_objects is deprecated.  Use the data-type specific converters pd.to_datetime, pd.to_timedelta and pd.to_numeric.\n"
     ]
    }
   ],
   "source": [
    "# plot distribution of heights\n",
    "d = pd.read_json('../data/building_floor_distribution_data/buildings.json')\n",
    "print(len(d))\n",
    "bldgs = d[['height_architecture', 'floors_above','functions']]\n",
    "office_bldgs = bldgs[bldgs.functions == 'office']\n",
    "\n",
    "bldgs = office_bldgs\n",
    "bldgs = bldgs.convert_objects(convert_numeric=True).dropna()\n",
    "\n",
    "bldgs['flr_height'] = bldgs['height_architecture'] / bldgs['floors_above']"
   ]
  },
  {
   "cell_type": "code",
   "execution_count": 495,
   "metadata": {
    "collapsed": false,
    "deletable": true,
    "editable": true
   },
   "outputs": [
    {
     "data": {
      "text/plain": [
       "count    492.000000\n",
       "mean       4.113913\n",
       "std        0.473997\n",
       "min        3.175000\n",
       "25%        3.786538\n",
       "50%        4.023619\n",
       "75%        4.328398\n",
       "max        6.650909\n",
       "Name: flr_height, dtype: float64"
      ]
     },
     "execution_count": 495,
     "metadata": {},
     "output_type": "execute_result"
    }
   ],
   "source": [
    "bldgs['flr_height'].describe()"
   ]
  },
  {
   "cell_type": "code",
   "execution_count": 496,
   "metadata": {
    "collapsed": false,
    "deletable": true,
    "editable": true
   },
   "outputs": [
    {
     "data": {
      "text/plain": [
       "4.023619152250761"
      ]
     },
     "execution_count": 496,
     "metadata": {},
     "output_type": "execute_result"
    }
   ],
   "source": [
    "bldgs['flr_height'].median()"
   ]
  },
  {
   "cell_type": "code",
   "execution_count": 497,
   "metadata": {
    "collapsed": false,
    "deletable": true,
    "editable": true
   },
   "outputs": [
    {
     "data": {
      "image/png": "[encoded data removed]",
      "text/plain": [
       "<matplotlib.figure.Figure at 0x1219fc0f0>"
      ]
     },
     "metadata": {},
     "output_type": "display_data"
    }
   ],
   "source": [
    "# bldgs['flr_height'].plot.density()\n",
    "ax= sns.distplot(bldgs['flr_height'], bins=100)\n",
    "ax.set(xlabel='Floor height distribution (m)')\n",
    "ax.set(title='Office Buildings (n={})'.format(len(bldgs)))\n",
    "savefig('./images/office_bldg.png', bbox_inches='tight')"
   ]
  },
  {
   "cell_type": "code",
   "execution_count": null,
   "metadata": {
    "collapsed": true
   },
   "outputs": [],
   "source": []
  }
 ],
 "metadata": {
  "anaconda-cloud": {},
  "kernelspec": {
   "display_name": "Python 3",
   "language": "python",
   "name": "python3"
  },
  "language_info": {
   "codemirror_mode": {
    "name": "ipython",
    "version": 3
   },
   "file_extension": ".py",
   "mimetype": "text/x-python",
   "name": "python",
   "nbconvert_exporter": "python",
   "pygments_lexer": "ipython3",
   "version": "3.4.5"
  },
  "varInspector": {
   "cols": {
    "lenName": 16,
    "lenType": 16,
    "lenVar": 40
   },
   "kernels_config": {
    "python": {
     "delete_cmd_postfix": "",
     "delete_cmd_prefix": "del ",
     "library": "var_list.py",
     "varRefreshCmd": "print(var_dic_list())"
    },
    "r": {
     "delete_cmd_postfix": ") ",
     "delete_cmd_prefix": "rm(",
     "library": "var_list.r",
     "varRefreshCmd": "cat(var_dic_list()) "
    }
   },
   "types_to_exclude": [
    "module",
    "function",
    "builtin_function_or_method",
    "instance",
    "_Feature"
   ],
   "window_display": false
  }
 },
 "nbformat": 4,
 "nbformat_minor": 1
}
